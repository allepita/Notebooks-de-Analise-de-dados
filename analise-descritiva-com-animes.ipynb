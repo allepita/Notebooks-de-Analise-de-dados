{
 "cells": [
  {
   "cell_type": "markdown",
   "id": "3b736607",
   "metadata": {
    "id": "Hx8L784zPCP6",
    "papermill": {
     "duration": 0.015433,
     "end_time": "2023-04-13T19:06:19.503455",
     "exception": false,
     "start_time": "2023-04-13T19:06:19.488022",
     "status": "completed"
    },
    "tags": []
   },
   "source": [
    "##Pratica com novo DataSet"
   ]
  },
  {
   "cell_type": "code",
   "execution_count": 1,
   "id": "d1d90a95",
   "metadata": {
    "execution": {
     "iopub.execute_input": "2023-04-13T19:06:19.532511Z",
     "iopub.status.busy": "2023-04-13T19:06:19.532098Z",
     "iopub.status.idle": "2023-04-13T19:06:19.541104Z",
     "shell.execute_reply": "2023-04-13T19:06:19.540155Z"
    },
    "id": "mEF_mv4PCX1I",
    "papermill": {
     "duration": 0.026828,
     "end_time": "2023-04-13T19:06:19.544344",
     "exception": false,
     "start_time": "2023-04-13T19:06:19.517516",
     "status": "completed"
    },
    "tags": []
   },
   "outputs": [],
   "source": [
    "import pandas as pd"
   ]
  },
  {
   "cell_type": "code",
   "execution_count": 2,
   "id": "aee37316",
   "metadata": {
    "execution": {
     "iopub.execute_input": "2023-04-13T19:06:19.574715Z",
     "iopub.status.busy": "2023-04-13T19:06:19.574304Z",
     "iopub.status.idle": "2023-04-13T19:06:19.592998Z",
     "shell.execute_reply": "2023-04-13T19:06:19.592154Z"
    },
    "id": "Q1nIj2Y9ChUD",
    "papermill": {
     "duration": 0.036772,
     "end_time": "2023-04-13T19:06:19.595444",
     "exception": false,
     "start_time": "2023-04-13T19:06:19.558672",
     "status": "completed"
    },
    "tags": []
   },
   "outputs": [],
   "source": [
    "dados = pd.read_csv('//kaggle/input/top-250-anime-2023/top250_anime.csv')"
   ]
  },
  {
   "cell_type": "code",
   "execution_count": 3,
   "id": "22a9ace9",
   "metadata": {
    "execution": {
     "iopub.execute_input": "2023-04-13T19:06:19.625846Z",
     "iopub.status.busy": "2023-04-13T19:06:19.625462Z",
     "iopub.status.idle": "2023-04-13T19:06:19.664664Z",
     "shell.execute_reply": "2023-04-13T19:06:19.663630Z"
    },
    "id": "uyZfm8otGstY",
    "outputId": "87cbc8ab-022b-41a7-b3d9-0c4ef96259fc",
    "papermill": {
     "duration": 0.056985,
     "end_time": "2023-04-13T19:06:19.667329",
     "exception": false,
     "start_time": "2023-04-13T19:06:19.610344",
     "status": "completed"
    },
    "tags": []
   },
   "outputs": [
    {
     "data": {
      "text/html": [
       "<div>\n",
       "<style scoped>\n",
       "    .dataframe tbody tr th:only-of-type {\n",
       "        vertical-align: middle;\n",
       "    }\n",
       "\n",
       "    .dataframe tbody tr th {\n",
       "        vertical-align: top;\n",
       "    }\n",
       "\n",
       "    .dataframe thead th {\n",
       "        text-align: right;\n",
       "    }\n",
       "</style>\n",
       "<table border=\"1\" class=\"dataframe\">\n",
       "  <thead>\n",
       "    <tr style=\"text-align: right;\">\n",
       "      <th></th>\n",
       "      <th>Rank</th>\n",
       "      <th>Title</th>\n",
       "      <th>Popularity</th>\n",
       "      <th>Genre</th>\n",
       "      <th>Studio</th>\n",
       "      <th>Type</th>\n",
       "      <th>Episodes</th>\n",
       "      <th>Duration</th>\n",
       "      <th>Start_date</th>\n",
       "      <th>End_date</th>\n",
       "      <th>Members</th>\n",
       "      <th>Score</th>\n",
       "    </tr>\n",
       "  </thead>\n",
       "  <tbody>\n",
       "    <tr>\n",
       "      <th>0</th>\n",
       "      <td>1</td>\n",
       "      <td>Shingeki no Kyojin: The Final Season - Kankets...</td>\n",
       "      <td>609</td>\n",
       "      <td>Action, Drama, Suspense</td>\n",
       "      <td>MAPPA</td>\n",
       "      <td>Special</td>\n",
       "      <td>2.0</td>\n",
       "      <td>61</td>\n",
       "      <td>23-Mar</td>\n",
       "      <td>2023</td>\n",
       "      <td>347875.0</td>\n",
       "      <td>9.17</td>\n",
       "    </tr>\n",
       "    <tr>\n",
       "      <th>1</th>\n",
       "      <td>2</td>\n",
       "      <td>Fullmetal Alchemist: Brotherhood</td>\n",
       "      <td>3</td>\n",
       "      <td>Action, Adventure, Drama, Fantasy</td>\n",
       "      <td>Bones</td>\n",
       "      <td>TV</td>\n",
       "      <td>64.0</td>\n",
       "      <td>24</td>\n",
       "      <td>9-Apr</td>\n",
       "      <td>10-Jul</td>\n",
       "      <td>3109951.0</td>\n",
       "      <td>9.11</td>\n",
       "    </tr>\n",
       "    <tr>\n",
       "      <th>2</th>\n",
       "      <td>3</td>\n",
       "      <td>Bleach: Sennen Kessen-hen</td>\n",
       "      <td>508</td>\n",
       "      <td>Action, Adventure, Fantasy</td>\n",
       "      <td>Pierrot</td>\n",
       "      <td>TV</td>\n",
       "      <td>13.0</td>\n",
       "      <td>24</td>\n",
       "      <td>22-Oct</td>\n",
       "      <td>22-Dec</td>\n",
       "      <td>404036.0</td>\n",
       "      <td>9.09</td>\n",
       "    </tr>\n",
       "    <tr>\n",
       "      <th>3</th>\n",
       "      <td>4</td>\n",
       "      <td>Steins;Gate</td>\n",
       "      <td>13</td>\n",
       "      <td>Drama, Sci-Fi, Suspense</td>\n",
       "      <td>White Fox</td>\n",
       "      <td>TV</td>\n",
       "      <td>24.0</td>\n",
       "      <td>24</td>\n",
       "      <td>11-Apr</td>\n",
       "      <td>11-Sep</td>\n",
       "      <td>2393767.0</td>\n",
       "      <td>9.08</td>\n",
       "    </tr>\n",
       "    <tr>\n",
       "      <th>4</th>\n",
       "      <td>5</td>\n",
       "      <td>Gintama°</td>\n",
       "      <td>335</td>\n",
       "      <td>Action, Comedy, Sci-Fi</td>\n",
       "      <td>Bandai Namco Pictures</td>\n",
       "      <td>TV</td>\n",
       "      <td>51.0</td>\n",
       "      <td>24</td>\n",
       "      <td>15-Apr</td>\n",
       "      <td>16-Mar</td>\n",
       "      <td>581994.0</td>\n",
       "      <td>9.07</td>\n",
       "    </tr>\n",
       "    <tr>\n",
       "      <th>...</th>\n",
       "      <td>...</td>\n",
       "      <td>...</td>\n",
       "      <td>...</td>\n",
       "      <td>...</td>\n",
       "      <td>...</td>\n",
       "      <td>...</td>\n",
       "      <td>...</td>\n",
       "      <td>...</td>\n",
       "      <td>...</td>\n",
       "      <td>...</td>\n",
       "      <td>...</td>\n",
       "      <td>...</td>\n",
       "    </tr>\n",
       "    <tr>\n",
       "      <th>245</th>\n",
       "      <td>246</td>\n",
       "      <td>Blue Lock</td>\n",
       "      <td>439</td>\n",
       "      <td>Sports</td>\n",
       "      <td>8bit</td>\n",
       "      <td>TV</td>\n",
       "      <td>24.0</td>\n",
       "      <td>24</td>\n",
       "      <td>22-Oct</td>\n",
       "      <td>23-Mar</td>\n",
       "      <td>459426.0</td>\n",
       "      <td>8.30</td>\n",
       "    </tr>\n",
       "    <tr>\n",
       "      <th>246</th>\n",
       "      <td>247</td>\n",
       "      <td>Detective Conan Movie 06: The Phantom of Baker...</td>\n",
       "      <td>2289</td>\n",
       "      <td>Adventure, Mystery</td>\n",
       "      <td>TMS Entertainment</td>\n",
       "      <td>Movie</td>\n",
       "      <td>1.0</td>\n",
       "      <td>107</td>\n",
       "      <td>2-Apr</td>\n",
       "      <td>2-Apr</td>\n",
       "      <td>73487.0</td>\n",
       "      <td>8.30</td>\n",
       "    </tr>\n",
       "    <tr>\n",
       "      <th>247</th>\n",
       "      <td>248</td>\n",
       "      <td>Diamond no Ace: Second Season</td>\n",
       "      <td>1541</td>\n",
       "      <td>Sports</td>\n",
       "      <td>Production I.G, Madhouse</td>\n",
       "      <td>TV</td>\n",
       "      <td>51.0</td>\n",
       "      <td>24</td>\n",
       "      <td>15-Apr</td>\n",
       "      <td>16-Mar</td>\n",
       "      <td>130376.0</td>\n",
       "      <td>8.30</td>\n",
       "    </tr>\n",
       "    <tr>\n",
       "      <th>248</th>\n",
       "      <td>249</td>\n",
       "      <td>Hibike! Euphonium 2</td>\n",
       "      <td>1017</td>\n",
       "      <td>Drama</td>\n",
       "      <td>Kyoto Animation</td>\n",
       "      <td>TV</td>\n",
       "      <td>13.0</td>\n",
       "      <td>23</td>\n",
       "      <td>16-Oct</td>\n",
       "      <td>16-Dec</td>\n",
       "      <td>213707.0</td>\n",
       "      <td>8.30</td>\n",
       "    </tr>\n",
       "    <tr>\n",
       "      <th>249</th>\n",
       "      <td>250</td>\n",
       "      <td>Ashita no Joe</td>\n",
       "      <td>2112</td>\n",
       "      <td>Drama, Sports</td>\n",
       "      <td>Mushi Production</td>\n",
       "      <td>TV</td>\n",
       "      <td>79.0</td>\n",
       "      <td>25</td>\n",
       "      <td>Apr-70</td>\n",
       "      <td>Sep-71</td>\n",
       "      <td>83604.0</td>\n",
       "      <td>8.29</td>\n",
       "    </tr>\n",
       "  </tbody>\n",
       "</table>\n",
       "<p>250 rows × 12 columns</p>\n",
       "</div>"
      ],
      "text/plain": [
       "     Rank                                              Title  Popularity  \\\n",
       "0       1  Shingeki no Kyojin: The Final Season - Kankets...         609   \n",
       "1       2                   Fullmetal Alchemist: Brotherhood           3   \n",
       "2       3                          Bleach: Sennen Kessen-hen         508   \n",
       "3       4                                        Steins;Gate          13   \n",
       "4       5                                           Gintama°         335   \n",
       "..    ...                                                ...         ...   \n",
       "245   246                                          Blue Lock         439   \n",
       "246   247  Detective Conan Movie 06: The Phantom of Baker...        2289   \n",
       "247   248                      Diamond no Ace: Second Season        1541   \n",
       "248   249                                Hibike! Euphonium 2        1017   \n",
       "249   250                                      Ashita no Joe        2112   \n",
       "\n",
       "                                 Genre                    Studio     Type  \\\n",
       "0              Action, Drama, Suspense                     MAPPA  Special   \n",
       "1    Action, Adventure, Drama, Fantasy                     Bones       TV   \n",
       "2           Action, Adventure, Fantasy                   Pierrot       TV   \n",
       "3              Drama, Sci-Fi, Suspense                 White Fox       TV   \n",
       "4               Action, Comedy, Sci-Fi     Bandai Namco Pictures       TV   \n",
       "..                                 ...                       ...      ...   \n",
       "245                             Sports                      8bit       TV   \n",
       "246                 Adventure, Mystery         TMS Entertainment    Movie   \n",
       "247                             Sports  Production I.G, Madhouse       TV   \n",
       "248                              Drama           Kyoto Animation       TV   \n",
       "249                      Drama, Sports          Mushi Production       TV   \n",
       "\n",
       "     Episodes  Duration Start_date End_date    Members  Score  \n",
       "0         2.0        61     23-Mar     2023   347875.0   9.17  \n",
       "1        64.0        24      9-Apr   10-Jul  3109951.0   9.11  \n",
       "2        13.0        24     22-Oct   22-Dec   404036.0   9.09  \n",
       "3        24.0        24     11-Apr   11-Sep  2393767.0   9.08  \n",
       "4        51.0        24     15-Apr   16-Mar   581994.0   9.07  \n",
       "..        ...       ...        ...      ...        ...    ...  \n",
       "245      24.0        24     22-Oct   23-Mar   459426.0   8.30  \n",
       "246       1.0       107      2-Apr    2-Apr    73487.0   8.30  \n",
       "247      51.0        24     15-Apr   16-Mar   130376.0   8.30  \n",
       "248      13.0        23     16-Oct   16-Dec   213707.0   8.30  \n",
       "249      79.0        25     Apr-70   Sep-71    83604.0   8.29  \n",
       "\n",
       "[250 rows x 12 columns]"
      ]
     },
     "execution_count": 3,
     "metadata": {},
     "output_type": "execute_result"
    }
   ],
   "source": [
    "dados"
   ]
  },
  {
   "cell_type": "code",
   "execution_count": 4,
   "id": "42295ee7",
   "metadata": {
    "execution": {
     "iopub.execute_input": "2023-04-13T19:06:19.698648Z",
     "iopub.status.busy": "2023-04-13T19:06:19.698260Z",
     "iopub.status.idle": "2023-04-13T19:06:19.715026Z",
     "shell.execute_reply": "2023-04-13T19:06:19.713914Z"
    },
    "id": "1uFQXNUXGvU_",
    "outputId": "e8556bd3-34e7-454e-a5ff-4f50d762604f",
    "papermill": {
     "duration": 0.034631,
     "end_time": "2023-04-13T19:06:19.717134",
     "exception": false,
     "start_time": "2023-04-13T19:06:19.682503",
     "status": "completed"
    },
    "tags": []
   },
   "outputs": [
    {
     "data": {
      "text/plain": [
       "[1,\n",
       " 2,\n",
       " 3,\n",
       " 4,\n",
       " 7,\n",
       " 10,\n",
       " 11,\n",
       " 12,\n",
       " 13,\n",
       " 17,\n",
       " 18,\n",
       " 19,\n",
       " 20,\n",
       " 21,\n",
       " 23,\n",
       " 26,\n",
       " 30,\n",
       " 33,\n",
       " 36,\n",
       " 38,\n",
       " 41,\n",
       " 42,\n",
       " 43,\n",
       " 44,\n",
       " 45,\n",
       " 47,\n",
       " 50,\n",
       " 54,\n",
       " 59,\n",
       " 63,\n",
       " 64,\n",
       " 76,\n",
       " 83,\n",
       " 84,\n",
       " 85,\n",
       " 86,\n",
       " 88,\n",
       " 91,\n",
       " 93,\n",
       " 95,\n",
       " 96,\n",
       " 98,\n",
       " 103,\n",
       " 105,\n",
       " 106,\n",
       " 108,\n",
       " 111,\n",
       " 114,\n",
       " 120,\n",
       " 124,\n",
       " 128,\n",
       " 131,\n",
       " 133,\n",
       " 135,\n",
       " 136,\n",
       " 138,\n",
       " 145,\n",
       " 154,\n",
       " 161,\n",
       " 170,\n",
       " 174,\n",
       " 176,\n",
       " 178,\n",
       " 179,\n",
       " 183,\n",
       " 185,\n",
       " 191,\n",
       " 194,\n",
       " 203,\n",
       " 204,\n",
       " 205,\n",
       " 208,\n",
       " 217,\n",
       " 219,\n",
       " 221,\n",
       " 233,\n",
       " 236,\n",
       " 242,\n",
       " 245,\n",
       " 249,\n",
       " 250,\n",
       " 255,\n",
       " 272,\n",
       " 281,\n",
       " 283,\n",
       " 284,\n",
       " 288,\n",
       " 289,\n",
       " 291,\n",
       " 296,\n",
       " 298,\n",
       " 303,\n",
       " 320,\n",
       " 328,\n",
       " 329,\n",
       " 333,\n",
       " 335,\n",
       " 338,\n",
       " 346,\n",
       " 354,\n",
       " 358,\n",
       " 362,\n",
       " 369,\n",
       " 375,\n",
       " 376,\n",
       " 380,\n",
       " 385,\n",
       " 387,\n",
       " 389,\n",
       " 392,\n",
       " 395,\n",
       " 399,\n",
       " 411,\n",
       " 414,\n",
       " 417,\n",
       " 426,\n",
       " 427,\n",
       " 428,\n",
       " 439,\n",
       " 442,\n",
       " 443,\n",
       " 467,\n",
       " 479,\n",
       " 484,\n",
       " 486,\n",
       " 494,\n",
       " 501,\n",
       " 504,\n",
       " 508,\n",
       " 513,\n",
       " 519,\n",
       " 527,\n",
       " 539,\n",
       " 541,\n",
       " 550,\n",
       " 551,\n",
       " 557,\n",
       " 559,\n",
       " 567,\n",
       " 575,\n",
       " 577,\n",
       " 591,\n",
       " 592,\n",
       " 594,\n",
       " 596,\n",
       " 597,\n",
       " 605,\n",
       " 609,\n",
       " 615,\n",
       " 620,\n",
       " 629,\n",
       " 639,\n",
       " 673,\n",
       " 677,\n",
       " 693,\n",
       " 695,\n",
       " 712,\n",
       " 714,\n",
       " 717,\n",
       " 724,\n",
       " 744,\n",
       " 762,\n",
       " 777,\n",
       " 779,\n",
       " 788,\n",
       " 791,\n",
       " 818,\n",
       " 829,\n",
       " 867,\n",
       " 905,\n",
       " 916,\n",
       " 922,\n",
       " 930,\n",
       " 951,\n",
       " 954,\n",
       " 960,\n",
       " 966,\n",
       " 999,\n",
       " 1017,\n",
       " 1024,\n",
       " 1032,\n",
       " 1065,\n",
       " 1078,\n",
       " 1094,\n",
       " 1106,\n",
       " 1114,\n",
       " 1124,\n",
       " 1144,\n",
       " 1159,\n",
       " 1187,\n",
       " 1203,\n",
       " 1205,\n",
       " 1235,\n",
       " 1238,\n",
       " 1272,\n",
       " 1296,\n",
       " 1340,\n",
       " 1353,\n",
       " 1363,\n",
       " 1400,\n",
       " 1517,\n",
       " 1528,\n",
       " 1541,\n",
       " 1545,\n",
       " 1581,\n",
       " 1608,\n",
       " 1627,\n",
       " 1636,\n",
       " 1637,\n",
       " 1656,\n",
       " 1667,\n",
       " 1700,\n",
       " 1713,\n",
       " 1734,\n",
       " 1772,\n",
       " 1872,\n",
       " 1953,\n",
       " 1954,\n",
       " 2021,\n",
       " 2064,\n",
       " 2101,\n",
       " 2112,\n",
       " 2128,\n",
       " 2168,\n",
       " 2239,\n",
       " 2289,\n",
       " 2375,\n",
       " 2394,\n",
       " 2401,\n",
       " 2433,\n",
       " 2435,\n",
       " 2441,\n",
       " 2538,\n",
       " 2575,\n",
       " 2796,\n",
       " 2838,\n",
       " 2853,\n",
       " 2935,\n",
       " 2966,\n",
       " 3068,\n",
       " 3095,\n",
       " 3137,\n",
       " 3320,\n",
       " 3860,\n",
       " 3893,\n",
       " 4273,\n",
       " 4781,\n",
       " 4936,\n",
       " 5046,\n",
       " 5794]"
      ]
     },
     "execution_count": 4,
     "metadata": {},
     "output_type": "execute_result"
    }
   ],
   "source": [
    "#Classificação qualitativa nominal -> Ordinal rank hierarquico\n",
    "sorted(dados.Popularity.unique())"
   ]
  },
  {
   "cell_type": "code",
   "execution_count": 5,
   "id": "360fdec9",
   "metadata": {
    "execution": {
     "iopub.execute_input": "2023-04-13T19:06:19.753051Z",
     "iopub.status.busy": "2023-04-13T19:06:19.752404Z",
     "iopub.status.idle": "2023-04-13T19:06:19.758046Z",
     "shell.execute_reply": "2023-04-13T19:06:19.757346Z"
    },
    "id": "NR7Zb-d0HjV-",
    "outputId": "9a1ac0dd-bec1-4c2b-853c-9252a17a46f9",
    "papermill": {
     "duration": 0.028264,
     "end_time": "2023-04-13T19:06:19.760074",
     "exception": false,
     "start_time": "2023-04-13T19:06:19.731810",
     "status": "completed"
    },
    "tags": []
   },
   "outputs": [
    {
     "data": {
      "text/plain": [
       "['Movie', 'Music', 'ONA', 'OVA', 'Special', 'TV']"
      ]
     },
     "execution_count": 5,
     "metadata": {},
     "output_type": "execute_result"
    }
   ],
   "source": [
    "#Classificação qualitativa nominal\n",
    "sorted(dados.Type.unique())"
   ]
  },
  {
   "cell_type": "code",
   "execution_count": 6,
   "id": "de6e6e29",
   "metadata": {
    "execution": {
     "iopub.execute_input": "2023-04-13T19:06:19.792571Z",
     "iopub.status.busy": "2023-04-13T19:06:19.791916Z",
     "iopub.status.idle": "2023-04-13T19:06:19.800034Z",
     "shell.execute_reply": "2023-04-13T19:06:19.798550Z"
    },
    "id": "BkX3a1BrI1Tm",
    "outputId": "1a06a903-c29b-42ff-bc29-9be898838ef3",
    "papermill": {
     "duration": 0.027275,
     "end_time": "2023-04-13T19:06:19.802775",
     "exception": false,
     "start_time": "2023-04-13T19:06:19.775500",
     "status": "completed"
    },
    "tags": []
   },
   "outputs": [
    {
     "name": "stdout",
     "output_type": "stream",
     "text": [
      "De Score 8.290000 até 9.170000\n"
     ]
    }
   ],
   "source": [
    "#Classificação Discreta -> Contem um numero finito ou enumeradas\n",
    "print('De Score %f até %f' % (dados.Score.min(), dados.Score.max()))"
   ]
  },
  {
   "cell_type": "code",
   "execution_count": 7,
   "id": "3c12a43d",
   "metadata": {
    "execution": {
     "iopub.execute_input": "2023-04-13T19:06:19.834555Z",
     "iopub.status.busy": "2023-04-13T19:06:19.833741Z",
     "iopub.status.idle": "2023-04-13T19:06:19.843230Z",
     "shell.execute_reply": "2023-04-13T19:06:19.842447Z"
    },
    "id": "F-amcKpWJ0Lb",
    "outputId": "17919ad4-4ac0-46c3-fd99-dee506937f53",
    "papermill": {
     "duration": 0.027077,
     "end_time": "2023-04-13T19:06:19.845058",
     "exception": false,
     "start_time": "2023-04-13T19:06:19.817981",
     "status": "completed"
    },
    "tags": []
   },
   "outputs": [
    {
     "data": {
      "text/plain": [
       "TV         163\n",
       "Movie       54\n",
       "OVA         10\n",
       "ONA         10\n",
       "Special      9\n",
       "Music        4\n",
       "Name: Type, dtype: int64"
      ]
     },
     "execution_count": 7,
     "metadata": {},
     "output_type": "execute_result"
    }
   ],
   "source": [
    "#distribuição de frequencia Qualitativa\n",
    "dados['Type'].value_counts()"
   ]
  },
  {
   "cell_type": "code",
   "execution_count": 8,
   "id": "902bb3e1",
   "metadata": {
    "execution": {
     "iopub.execute_input": "2023-04-13T19:06:19.876957Z",
     "iopub.status.busy": "2023-04-13T19:06:19.875998Z",
     "iopub.status.idle": "2023-04-13T19:06:19.886336Z",
     "shell.execute_reply": "2023-04-13T19:06:19.884810Z"
    },
    "id": "L93iZ6kjK0ev",
    "outputId": "b05ef1de-8900-4d44-9458-34120cfb2cc3",
    "papermill": {
     "duration": 0.028949,
     "end_time": "2023-04-13T19:06:19.889041",
     "exception": false,
     "start_time": "2023-04-13T19:06:19.860092",
     "status": "completed"
    },
    "tags": []
   },
   "outputs": [
    {
     "data": {
      "text/plain": [
       "TV         65.2\n",
       "Movie      21.6\n",
       "OVA         4.0\n",
       "ONA         4.0\n",
       "Special     3.6\n",
       "Music       1.6\n",
       "Name: Type, dtype: float64"
      ]
     },
     "execution_count": 8,
     "metadata": {},
     "output_type": "execute_result"
    }
   ],
   "source": [
    "#Mostrando em Percentual\n",
    "dados['Type'].value_counts(normalize = True)*100"
   ]
  },
  {
   "cell_type": "code",
   "execution_count": 9,
   "id": "799ab087",
   "metadata": {
    "execution": {
     "iopub.execute_input": "2023-04-13T19:06:19.922425Z",
     "iopub.status.busy": "2023-04-13T19:06:19.921165Z",
     "iopub.status.idle": "2023-04-13T19:06:19.927470Z",
     "shell.execute_reply": "2023-04-13T19:06:19.926207Z"
    },
    "id": "_Xx21dT2K_v6",
    "papermill": {
     "duration": 0.025272,
     "end_time": "2023-04-13T19:06:19.929991",
     "exception": false,
     "start_time": "2023-04-13T19:06:19.904719",
     "status": "completed"
    },
    "tags": []
   },
   "outputs": [],
   "source": [
    "frequencia = dados['Type'].value_counts()"
   ]
  },
  {
   "cell_type": "code",
   "execution_count": 10,
   "id": "3d805c45",
   "metadata": {
    "execution": {
     "iopub.execute_input": "2023-04-13T19:06:19.962029Z",
     "iopub.status.busy": "2023-04-13T19:06:19.961690Z",
     "iopub.status.idle": "2023-04-13T19:06:19.967348Z",
     "shell.execute_reply": "2023-04-13T19:06:19.966321Z"
    },
    "id": "peOGcORzLynf",
    "papermill": {
     "duration": 0.024485,
     "end_time": "2023-04-13T19:06:19.969899",
     "exception": false,
     "start_time": "2023-04-13T19:06:19.945414",
     "status": "completed"
    },
    "tags": []
   },
   "outputs": [],
   "source": [
    "percentual = dados['Type'].value_counts(normalize = True)*100"
   ]
  },
  {
   "cell_type": "code",
   "execution_count": 11,
   "id": "700270ab",
   "metadata": {
    "execution": {
     "iopub.execute_input": "2023-04-13T19:06:20.001802Z",
     "iopub.status.busy": "2023-04-13T19:06:20.001448Z",
     "iopub.status.idle": "2023-04-13T19:06:20.007820Z",
     "shell.execute_reply": "2023-04-13T19:06:20.006025Z"
    },
    "id": "ychzxqPRL1Yz",
    "papermill": {
     "duration": 0.025511,
     "end_time": "2023-04-13T19:06:20.010603",
     "exception": false,
     "start_time": "2023-04-13T19:06:19.985092",
     "status": "completed"
    },
    "tags": []
   },
   "outputs": [],
   "source": [
    "df_frequencia = pd.DataFrame({'Frequencia' : frequencia, 'Percentual' : percentual})"
   ]
  },
  {
   "cell_type": "code",
   "execution_count": 12,
   "id": "05ce3043",
   "metadata": {
    "execution": {
     "iopub.execute_input": "2023-04-13T19:06:20.043810Z",
     "iopub.status.busy": "2023-04-13T19:06:20.042556Z",
     "iopub.status.idle": "2023-04-13T19:06:20.048557Z",
     "shell.execute_reply": "2023-04-13T19:06:20.047365Z"
    },
    "id": "i7WDJn2pMDty",
    "papermill": {
     "duration": 0.024131,
     "end_time": "2023-04-13T19:06:20.050442",
     "exception": false,
     "start_time": "2023-04-13T19:06:20.026311",
     "status": "completed"
    },
    "tags": []
   },
   "outputs": [],
   "source": [
    "df_frequencia.rename_axis('Type of Production',axis = 'columns',  inplace = True)"
   ]
  },
  {
   "cell_type": "code",
   "execution_count": 13,
   "id": "50818d86",
   "metadata": {
    "execution": {
     "iopub.execute_input": "2023-04-13T19:06:20.084856Z",
     "iopub.status.busy": "2023-04-13T19:06:20.084308Z",
     "iopub.status.idle": "2023-04-13T19:06:20.093427Z",
     "shell.execute_reply": "2023-04-13T19:06:20.091916Z"
    },
    "id": "-yDrv6W0MFDJ",
    "outputId": "40ee218a-02d6-417a-d222-3ddc69748c5d",
    "papermill": {
     "duration": 0.028954,
     "end_time": "2023-04-13T19:06:20.095458",
     "exception": false,
     "start_time": "2023-04-13T19:06:20.066504",
     "status": "completed"
    },
    "tags": []
   },
   "outputs": [
    {
     "data": {
      "text/html": [
       "<div>\n",
       "<style scoped>\n",
       "    .dataframe tbody tr th:only-of-type {\n",
       "        vertical-align: middle;\n",
       "    }\n",
       "\n",
       "    .dataframe tbody tr th {\n",
       "        vertical-align: top;\n",
       "    }\n",
       "\n",
       "    .dataframe thead th {\n",
       "        text-align: right;\n",
       "    }\n",
       "</style>\n",
       "<table border=\"1\" class=\"dataframe\">\n",
       "  <thead>\n",
       "    <tr style=\"text-align: right;\">\n",
       "      <th>Type of Production</th>\n",
       "      <th>Frequencia</th>\n",
       "      <th>Percentual</th>\n",
       "    </tr>\n",
       "  </thead>\n",
       "  <tbody>\n",
       "    <tr>\n",
       "      <th>TV</th>\n",
       "      <td>163</td>\n",
       "      <td>65.2</td>\n",
       "    </tr>\n",
       "    <tr>\n",
       "      <th>Movie</th>\n",
       "      <td>54</td>\n",
       "      <td>21.6</td>\n",
       "    </tr>\n",
       "    <tr>\n",
       "      <th>OVA</th>\n",
       "      <td>10</td>\n",
       "      <td>4.0</td>\n",
       "    </tr>\n",
       "    <tr>\n",
       "      <th>ONA</th>\n",
       "      <td>10</td>\n",
       "      <td>4.0</td>\n",
       "    </tr>\n",
       "    <tr>\n",
       "      <th>Special</th>\n",
       "      <td>9</td>\n",
       "      <td>3.6</td>\n",
       "    </tr>\n",
       "    <tr>\n",
       "      <th>Music</th>\n",
       "      <td>4</td>\n",
       "      <td>1.6</td>\n",
       "    </tr>\n",
       "  </tbody>\n",
       "</table>\n",
       "</div>"
      ],
      "text/plain": [
       "Type of Production  Frequencia  Percentual\n",
       "TV                         163        65.2\n",
       "Movie                       54        21.6\n",
       "OVA                         10         4.0\n",
       "ONA                         10         4.0\n",
       "Special                      9         3.6\n",
       "Music                        4         1.6"
      ]
     },
     "execution_count": 13,
     "metadata": {},
     "output_type": "execute_result"
    }
   ],
   "source": [
    "df_frequencia"
   ]
  },
  {
   "cell_type": "markdown",
   "id": "343e44c4",
   "metadata": {
    "id": "oOg15EtbO-IG",
    "papermill": {
     "duration": 0.014762,
     "end_time": "2023-04-13T19:06:20.125506",
     "exception": false,
     "start_time": "2023-04-13T19:06:20.110744",
     "status": "completed"
    },
    "tags": []
   },
   "source": [
    "## Exercicio Aula"
   ]
  },
  {
   "cell_type": "code",
   "execution_count": 14,
   "id": "d393dd7f",
   "metadata": {
    "execution": {
     "iopub.execute_input": "2023-04-13T19:06:20.157787Z",
     "iopub.status.busy": "2023-04-13T19:06:20.157398Z",
     "iopub.status.idle": "2023-04-13T19:06:20.163689Z",
     "shell.execute_reply": "2023-04-13T19:06:20.162080Z"
    },
    "id": "NeemuVUBMvhG",
    "papermill": {
     "duration": 0.02518,
     "end_time": "2023-04-13T19:06:20.165944",
     "exception": false,
     "start_time": "2023-04-13T19:06:20.140764",
     "status": "completed"
    },
    "tags": []
   },
   "outputs": [],
   "source": [
    "dados2 = pd.DataFrame({'Profissão' : [1,2,3,1,2,2,2,3,3,2,1,3]})"
   ]
  },
  {
   "cell_type": "code",
   "execution_count": 15,
   "id": "b85b032b",
   "metadata": {
    "execution": {
     "iopub.execute_input": "2023-04-13T19:06:20.204662Z",
     "iopub.status.busy": "2023-04-13T19:06:20.204204Z",
     "iopub.status.idle": "2023-04-13T19:06:20.212606Z",
     "shell.execute_reply": "2023-04-13T19:06:20.211771Z"
    },
    "id": "OXIcX7-QPbTl",
    "outputId": "fed7ec66-4076-4bec-f2f5-4618624bfa4d",
    "papermill": {
     "duration": 0.031969,
     "end_time": "2023-04-13T19:06:20.214593",
     "exception": false,
     "start_time": "2023-04-13T19:06:20.182624",
     "status": "completed"
    },
    "tags": []
   },
   "outputs": [
    {
     "data": {
      "text/html": [
       "<div>\n",
       "<style scoped>\n",
       "    .dataframe tbody tr th:only-of-type {\n",
       "        vertical-align: middle;\n",
       "    }\n",
       "\n",
       "    .dataframe tbody tr th {\n",
       "        vertical-align: top;\n",
       "    }\n",
       "\n",
       "    .dataframe thead th {\n",
       "        text-align: right;\n",
       "    }\n",
       "</style>\n",
       "<table border=\"1\" class=\"dataframe\">\n",
       "  <thead>\n",
       "    <tr style=\"text-align: right;\">\n",
       "      <th></th>\n",
       "      <th>Profissão</th>\n",
       "    </tr>\n",
       "  </thead>\n",
       "  <tbody>\n",
       "    <tr>\n",
       "      <th>0</th>\n",
       "      <td>1</td>\n",
       "    </tr>\n",
       "    <tr>\n",
       "      <th>1</th>\n",
       "      <td>2</td>\n",
       "    </tr>\n",
       "    <tr>\n",
       "      <th>2</th>\n",
       "      <td>3</td>\n",
       "    </tr>\n",
       "    <tr>\n",
       "      <th>3</th>\n",
       "      <td>1</td>\n",
       "    </tr>\n",
       "    <tr>\n",
       "      <th>4</th>\n",
       "      <td>2</td>\n",
       "    </tr>\n",
       "    <tr>\n",
       "      <th>5</th>\n",
       "      <td>2</td>\n",
       "    </tr>\n",
       "    <tr>\n",
       "      <th>6</th>\n",
       "      <td>2</td>\n",
       "    </tr>\n",
       "    <tr>\n",
       "      <th>7</th>\n",
       "      <td>3</td>\n",
       "    </tr>\n",
       "    <tr>\n",
       "      <th>8</th>\n",
       "      <td>3</td>\n",
       "    </tr>\n",
       "    <tr>\n",
       "      <th>9</th>\n",
       "      <td>2</td>\n",
       "    </tr>\n",
       "    <tr>\n",
       "      <th>10</th>\n",
       "      <td>1</td>\n",
       "    </tr>\n",
       "    <tr>\n",
       "      <th>11</th>\n",
       "      <td>3</td>\n",
       "    </tr>\n",
       "  </tbody>\n",
       "</table>\n",
       "</div>"
      ],
      "text/plain": [
       "    Profissão\n",
       "0           1\n",
       "1           2\n",
       "2           3\n",
       "3           1\n",
       "4           2\n",
       "5           2\n",
       "6           2\n",
       "7           3\n",
       "8           3\n",
       "9           2\n",
       "10          1\n",
       "11          3"
      ]
     },
     "execution_count": 15,
     "metadata": {},
     "output_type": "execute_result"
    }
   ],
   "source": [
    "dados2"
   ]
  },
  {
   "cell_type": "code",
   "execution_count": 16,
   "id": "6c1f4fb2",
   "metadata": {
    "execution": {
     "iopub.execute_input": "2023-04-13T19:06:20.258302Z",
     "iopub.status.busy": "2023-04-13T19:06:20.257475Z",
     "iopub.status.idle": "2023-04-13T19:06:20.265457Z",
     "shell.execute_reply": "2023-04-13T19:06:20.264111Z"
    },
    "id": "pO6jEKsoPcQZ",
    "papermill": {
     "duration": 0.032972,
     "end_time": "2023-04-13T19:06:20.268050",
     "exception": false,
     "start_time": "2023-04-13T19:06:20.235078",
     "status": "completed"
    },
    "tags": []
   },
   "outputs": [],
   "source": [
    "frequencia = dados2.Profissão.value_counts()"
   ]
  },
  {
   "cell_type": "code",
   "execution_count": 17,
   "id": "ab82c2d0",
   "metadata": {
    "execution": {
     "iopub.execute_input": "2023-04-13T19:06:20.302126Z",
     "iopub.status.busy": "2023-04-13T19:06:20.301760Z",
     "iopub.status.idle": "2023-04-13T19:06:20.309043Z",
     "shell.execute_reply": "2023-04-13T19:06:20.307377Z"
    },
    "id": "9bjJv_G0P_Au",
    "papermill": {
     "duration": 0.027916,
     "end_time": "2023-04-13T19:06:20.311462",
     "exception": false,
     "start_time": "2023-04-13T19:06:20.283546",
     "status": "completed"
    },
    "tags": []
   },
   "outputs": [],
   "source": [
    "percentual = dados2.Profissão.value_counts(normalize = True)*100"
   ]
  },
  {
   "cell_type": "code",
   "execution_count": 18,
   "id": "59868a34",
   "metadata": {
    "execution": {
     "iopub.execute_input": "2023-04-13T19:06:20.344602Z",
     "iopub.status.busy": "2023-04-13T19:06:20.344206Z",
     "iopub.status.idle": "2023-04-13T19:06:20.349067Z",
     "shell.execute_reply": "2023-04-13T19:06:20.348334Z"
    },
    "id": "UoWSi_6dQOnd",
    "papermill": {
     "duration": 0.023666,
     "end_time": "2023-04-13T19:06:20.350863",
     "exception": false,
     "start_time": "2023-04-13T19:06:20.327197",
     "status": "completed"
    },
    "tags": []
   },
   "outputs": [],
   "source": [
    "dist_freq_qualitativas = pd.DataFrame({'Frequencia' : frequencia, 'Porcentagem(%)' : percentual})"
   ]
  },
  {
   "cell_type": "code",
   "execution_count": 19,
   "id": "cf73311e",
   "metadata": {
    "execution": {
     "iopub.execute_input": "2023-04-13T19:06:20.383438Z",
     "iopub.status.busy": "2023-04-13T19:06:20.382920Z",
     "iopub.status.idle": "2023-04-13T19:06:20.389226Z",
     "shell.execute_reply": "2023-04-13T19:06:20.387771Z"
    },
    "id": "Or6g4QO4QuLu",
    "papermill": {
     "duration": 0.02489,
     "end_time": "2023-04-13T19:06:20.391218",
     "exception": false,
     "start_time": "2023-04-13T19:06:20.366328",
     "status": "completed"
    },
    "tags": []
   },
   "outputs": [],
   "source": [
    "dist_freq_qualitativas.rename(index = {1: 'Estatístico', 2: 'Cientista de Dados', 3: 'Programador Python'}, inplace = True)"
   ]
  },
  {
   "cell_type": "code",
   "execution_count": 20,
   "id": "5b6826f6",
   "metadata": {
    "execution": {
     "iopub.execute_input": "2023-04-13T19:06:20.424423Z",
     "iopub.status.busy": "2023-04-13T19:06:20.423393Z",
     "iopub.status.idle": "2023-04-13T19:06:20.429016Z",
     "shell.execute_reply": "2023-04-13T19:06:20.427517Z"
    },
    "id": "6plb_v1XQvrb",
    "papermill": {
     "duration": 0.024843,
     "end_time": "2023-04-13T19:06:20.431481",
     "exception": false,
     "start_time": "2023-04-13T19:06:20.406638",
     "status": "completed"
    },
    "tags": []
   },
   "outputs": [],
   "source": [
    "dist_freq_qualitativas.rename_axis('Profissão', axis = 'columns', inplace = True)"
   ]
  },
  {
   "cell_type": "code",
   "execution_count": 21,
   "id": "80fdef06",
   "metadata": {
    "execution": {
     "iopub.execute_input": "2023-04-13T19:06:20.464315Z",
     "iopub.status.busy": "2023-04-13T19:06:20.463914Z",
     "iopub.status.idle": "2023-04-13T19:06:20.474107Z",
     "shell.execute_reply": "2023-04-13T19:06:20.473162Z"
    },
    "id": "KB6TJSTmRU4h",
    "outputId": "c717d0ae-fe7a-4d6b-e997-76788cff97d1",
    "papermill": {
     "duration": 0.028609,
     "end_time": "2023-04-13T19:06:20.475934",
     "exception": false,
     "start_time": "2023-04-13T19:06:20.447325",
     "status": "completed"
    },
    "tags": []
   },
   "outputs": [
    {
     "data": {
      "text/html": [
       "<div>\n",
       "<style scoped>\n",
       "    .dataframe tbody tr th:only-of-type {\n",
       "        vertical-align: middle;\n",
       "    }\n",
       "\n",
       "    .dataframe tbody tr th {\n",
       "        vertical-align: top;\n",
       "    }\n",
       "\n",
       "    .dataframe thead th {\n",
       "        text-align: right;\n",
       "    }\n",
       "</style>\n",
       "<table border=\"1\" class=\"dataframe\">\n",
       "  <thead>\n",
       "    <tr style=\"text-align: right;\">\n",
       "      <th>Profissão</th>\n",
       "      <th>Frequencia</th>\n",
       "      <th>Porcentagem(%)</th>\n",
       "    </tr>\n",
       "  </thead>\n",
       "  <tbody>\n",
       "    <tr>\n",
       "      <th>Cientista de Dados</th>\n",
       "      <td>5</td>\n",
       "      <td>41.666667</td>\n",
       "    </tr>\n",
       "    <tr>\n",
       "      <th>Programador Python</th>\n",
       "      <td>4</td>\n",
       "      <td>33.333333</td>\n",
       "    </tr>\n",
       "    <tr>\n",
       "      <th>Estatístico</th>\n",
       "      <td>3</td>\n",
       "      <td>25.000000</td>\n",
       "    </tr>\n",
       "  </tbody>\n",
       "</table>\n",
       "</div>"
      ],
      "text/plain": [
       "Profissão           Frequencia  Porcentagem(%)\n",
       "Cientista de Dados           5       41.666667\n",
       "Programador Python           4       33.333333\n",
       "Estatístico                  3       25.000000"
      ]
     },
     "execution_count": 21,
     "metadata": {},
     "output_type": "execute_result"
    }
   ],
   "source": [
    "dist_freq_qualitativas"
   ]
  },
  {
   "cell_type": "code",
   "execution_count": 22,
   "id": "61b6d329",
   "metadata": {
    "execution": {
     "iopub.execute_input": "2023-04-13T19:06:20.509800Z",
     "iopub.status.busy": "2023-04-13T19:06:20.509396Z",
     "iopub.status.idle": "2023-04-13T19:06:20.555443Z",
     "shell.execute_reply": "2023-04-13T19:06:20.553924Z"
    },
    "id": "nCrx3AsURWii",
    "outputId": "4236b70d-55e0-43a9-d8ac-64b187639cd6",
    "papermill": {
     "duration": 0.065314,
     "end_time": "2023-04-13T19:06:20.557701",
     "exception": false,
     "start_time": "2023-04-13T19:06:20.492387",
     "status": "completed"
    },
    "tags": []
   },
   "outputs": [
    {
     "data": {
      "text/html": [
       "<div>\n",
       "<style scoped>\n",
       "    .dataframe tbody tr th:only-of-type {\n",
       "        vertical-align: middle;\n",
       "    }\n",
       "\n",
       "    .dataframe tbody tr th {\n",
       "        vertical-align: top;\n",
       "    }\n",
       "\n",
       "    .dataframe thead th {\n",
       "        text-align: right;\n",
       "    }\n",
       "</style>\n",
       "<table border=\"1\" class=\"dataframe\">\n",
       "  <thead>\n",
       "    <tr style=\"text-align: right;\">\n",
       "      <th>Score</th>\n",
       "      <th>8.29</th>\n",
       "      <th>8.30</th>\n",
       "      <th>8.31</th>\n",
       "      <th>8.32</th>\n",
       "      <th>8.33</th>\n",
       "      <th>8.34</th>\n",
       "      <th>8.35</th>\n",
       "      <th>8.36</th>\n",
       "      <th>8.37</th>\n",
       "      <th>8.38</th>\n",
       "      <th>...</th>\n",
       "      <th>9.01</th>\n",
       "      <th>9.03</th>\n",
       "      <th>9.04</th>\n",
       "      <th>9.05</th>\n",
       "      <th>9.06</th>\n",
       "      <th>9.07</th>\n",
       "      <th>9.08</th>\n",
       "      <th>9.09</th>\n",
       "      <th>9.11</th>\n",
       "      <th>9.17</th>\n",
       "    </tr>\n",
       "    <tr>\n",
       "      <th>Type</th>\n",
       "      <th></th>\n",
       "      <th></th>\n",
       "      <th></th>\n",
       "      <th></th>\n",
       "      <th></th>\n",
       "      <th></th>\n",
       "      <th></th>\n",
       "      <th></th>\n",
       "      <th></th>\n",
       "      <th></th>\n",
       "      <th></th>\n",
       "      <th></th>\n",
       "      <th></th>\n",
       "      <th></th>\n",
       "      <th></th>\n",
       "      <th></th>\n",
       "      <th></th>\n",
       "      <th></th>\n",
       "      <th></th>\n",
       "      <th></th>\n",
       "      <th></th>\n",
       "    </tr>\n",
       "  </thead>\n",
       "  <tbody>\n",
       "    <tr>\n",
       "      <th>Movie</th>\n",
       "      <td>0</td>\n",
       "      <td>2</td>\n",
       "      <td>1</td>\n",
       "      <td>0</td>\n",
       "      <td>0</td>\n",
       "      <td>0</td>\n",
       "      <td>1</td>\n",
       "      <td>1</td>\n",
       "      <td>3</td>\n",
       "      <td>1</td>\n",
       "      <td>...</td>\n",
       "      <td>0</td>\n",
       "      <td>0</td>\n",
       "      <td>0</td>\n",
       "      <td>1</td>\n",
       "      <td>0</td>\n",
       "      <td>0</td>\n",
       "      <td>0</td>\n",
       "      <td>0</td>\n",
       "      <td>0</td>\n",
       "      <td>0</td>\n",
       "    </tr>\n",
       "    <tr>\n",
       "      <th>Music</th>\n",
       "      <td>0</td>\n",
       "      <td>0</td>\n",
       "      <td>1</td>\n",
       "      <td>1</td>\n",
       "      <td>1</td>\n",
       "      <td>0</td>\n",
       "      <td>0</td>\n",
       "      <td>1</td>\n",
       "      <td>0</td>\n",
       "      <td>0</td>\n",
       "      <td>...</td>\n",
       "      <td>0</td>\n",
       "      <td>0</td>\n",
       "      <td>0</td>\n",
       "      <td>0</td>\n",
       "      <td>0</td>\n",
       "      <td>0</td>\n",
       "      <td>0</td>\n",
       "      <td>0</td>\n",
       "      <td>0</td>\n",
       "      <td>0</td>\n",
       "    </tr>\n",
       "    <tr>\n",
       "      <th>ONA</th>\n",
       "      <td>0</td>\n",
       "      <td>0</td>\n",
       "      <td>0</td>\n",
       "      <td>0</td>\n",
       "      <td>0</td>\n",
       "      <td>0</td>\n",
       "      <td>0</td>\n",
       "      <td>0</td>\n",
       "      <td>0</td>\n",
       "      <td>0</td>\n",
       "      <td>...</td>\n",
       "      <td>0</td>\n",
       "      <td>0</td>\n",
       "      <td>0</td>\n",
       "      <td>0</td>\n",
       "      <td>0</td>\n",
       "      <td>0</td>\n",
       "      <td>0</td>\n",
       "      <td>0</td>\n",
       "      <td>0</td>\n",
       "      <td>0</td>\n",
       "    </tr>\n",
       "    <tr>\n",
       "      <th>OVA</th>\n",
       "      <td>0</td>\n",
       "      <td>0</td>\n",
       "      <td>1</td>\n",
       "      <td>0</td>\n",
       "      <td>3</td>\n",
       "      <td>0</td>\n",
       "      <td>1</td>\n",
       "      <td>0</td>\n",
       "      <td>0</td>\n",
       "      <td>0</td>\n",
       "      <td>...</td>\n",
       "      <td>0</td>\n",
       "      <td>1</td>\n",
       "      <td>0</td>\n",
       "      <td>0</td>\n",
       "      <td>0</td>\n",
       "      <td>0</td>\n",
       "      <td>0</td>\n",
       "      <td>0</td>\n",
       "      <td>0</td>\n",
       "      <td>0</td>\n",
       "    </tr>\n",
       "    <tr>\n",
       "      <th>Special</th>\n",
       "      <td>0</td>\n",
       "      <td>0</td>\n",
       "      <td>0</td>\n",
       "      <td>1</td>\n",
       "      <td>2</td>\n",
       "      <td>0</td>\n",
       "      <td>1</td>\n",
       "      <td>0</td>\n",
       "      <td>0</td>\n",
       "      <td>0</td>\n",
       "      <td>...</td>\n",
       "      <td>0</td>\n",
       "      <td>0</td>\n",
       "      <td>0</td>\n",
       "      <td>0</td>\n",
       "      <td>0</td>\n",
       "      <td>0</td>\n",
       "      <td>0</td>\n",
       "      <td>0</td>\n",
       "      <td>0</td>\n",
       "      <td>1</td>\n",
       "    </tr>\n",
       "    <tr>\n",
       "      <th>TV</th>\n",
       "      <td>1</td>\n",
       "      <td>4</td>\n",
       "      <td>6</td>\n",
       "      <td>8</td>\n",
       "      <td>6</td>\n",
       "      <td>5</td>\n",
       "      <td>2</td>\n",
       "      <td>4</td>\n",
       "      <td>4</td>\n",
       "      <td>3</td>\n",
       "      <td>...</td>\n",
       "      <td>1</td>\n",
       "      <td>1</td>\n",
       "      <td>2</td>\n",
       "      <td>0</td>\n",
       "      <td>2</td>\n",
       "      <td>1</td>\n",
       "      <td>1</td>\n",
       "      <td>1</td>\n",
       "      <td>1</td>\n",
       "      <td>0</td>\n",
       "    </tr>\n",
       "  </tbody>\n",
       "</table>\n",
       "<p>6 rows × 70 columns</p>\n",
       "</div>"
      ],
      "text/plain": [
       "Score    8.29  8.30  8.31  8.32  8.33  8.34  8.35  8.36  8.37  8.38  ...  \\\n",
       "Type                                                                 ...   \n",
       "Movie       0     2     1     0     0     0     1     1     3     1  ...   \n",
       "Music       0     0     1     1     1     0     0     1     0     0  ...   \n",
       "ONA         0     0     0     0     0     0     0     0     0     0  ...   \n",
       "OVA         0     0     1     0     3     0     1     0     0     0  ...   \n",
       "Special     0     0     0     1     2     0     1     0     0     0  ...   \n",
       "TV          1     4     6     8     6     5     2     4     4     3  ...   \n",
       "\n",
       "Score    9.01  9.03  9.04  9.05  9.06  9.07  9.08  9.09  9.11  9.17  \n",
       "Type                                                                 \n",
       "Movie       0     0     0     1     0     0     0     0     0     0  \n",
       "Music       0     0     0     0     0     0     0     0     0     0  \n",
       "ONA         0     0     0     0     0     0     0     0     0     0  \n",
       "OVA         0     1     0     0     0     0     0     0     0     0  \n",
       "Special     0     0     0     0     0     0     0     0     0     1  \n",
       "TV          1     1     2     0     2     1     1     1     1     0  \n",
       "\n",
       "[6 rows x 70 columns]"
      ]
     },
     "execution_count": 22,
     "metadata": {},
     "output_type": "execute_result"
    }
   ],
   "source": [
    "pd.crosstab(dados.Type, dados.Score) # Fazendo cross de tabela de frequencia"
   ]
  },
  {
   "cell_type": "markdown",
   "id": "806c8d9b",
   "metadata": {
    "id": "e0eKYV40-n55",
    "papermill": {
     "duration": 0.015623,
     "end_time": "2023-04-13T19:06:20.589104",
     "exception": false,
     "start_time": "2023-04-13T19:06:20.573481",
     "status": "completed"
    },
    "tags": []
   },
   "source": [
    "## Continuando Projeto"
   ]
  },
  {
   "cell_type": "code",
   "execution_count": 23,
   "id": "e937d52f",
   "metadata": {
    "execution": {
     "iopub.execute_input": "2023-04-13T19:06:20.622688Z",
     "iopub.status.busy": "2023-04-13T19:06:20.622237Z",
     "iopub.status.idle": "2023-04-13T19:06:20.645958Z",
     "shell.execute_reply": "2023-04-13T19:06:20.644907Z"
    },
    "id": "633Zr3mXT4na",
    "outputId": "182fe0c5-f73b-4051-f86e-02d7a85badf0",
    "papermill": {
     "duration": 0.043536,
     "end_time": "2023-04-13T19:06:20.648492",
     "exception": false,
     "start_time": "2023-04-13T19:06:20.604956",
     "status": "completed"
    },
    "tags": []
   },
   "outputs": [
    {
     "data": {
      "text/html": [
       "<div>\n",
       "<style scoped>\n",
       "    .dataframe tbody tr th:only-of-type {\n",
       "        vertical-align: middle;\n",
       "    }\n",
       "\n",
       "    .dataframe tbody tr th {\n",
       "        vertical-align: top;\n",
       "    }\n",
       "\n",
       "    .dataframe thead th {\n",
       "        text-align: right;\n",
       "    }\n",
       "</style>\n",
       "<table border=\"1\" class=\"dataframe\">\n",
       "  <thead>\n",
       "    <tr style=\"text-align: right;\">\n",
       "      <th></th>\n",
       "      <th>Rank</th>\n",
       "      <th>Title</th>\n",
       "      <th>Popularity</th>\n",
       "      <th>Genre</th>\n",
       "      <th>Studio</th>\n",
       "      <th>Type</th>\n",
       "      <th>Episodes</th>\n",
       "      <th>Duration</th>\n",
       "      <th>Start_date</th>\n",
       "      <th>End_date</th>\n",
       "      <th>Members</th>\n",
       "      <th>Score</th>\n",
       "    </tr>\n",
       "  </thead>\n",
       "  <tbody>\n",
       "    <tr>\n",
       "      <th>0</th>\n",
       "      <td>1</td>\n",
       "      <td>Shingeki no Kyojin: The Final Season - Kankets...</td>\n",
       "      <td>609</td>\n",
       "      <td>Action, Drama, Suspense</td>\n",
       "      <td>MAPPA</td>\n",
       "      <td>Special</td>\n",
       "      <td>2.0</td>\n",
       "      <td>61</td>\n",
       "      <td>23-Mar</td>\n",
       "      <td>2023</td>\n",
       "      <td>347875.0</td>\n",
       "      <td>9.17</td>\n",
       "    </tr>\n",
       "    <tr>\n",
       "      <th>1</th>\n",
       "      <td>2</td>\n",
       "      <td>Fullmetal Alchemist: Brotherhood</td>\n",
       "      <td>3</td>\n",
       "      <td>Action, Adventure, Drama, Fantasy</td>\n",
       "      <td>Bones</td>\n",
       "      <td>TV</td>\n",
       "      <td>64.0</td>\n",
       "      <td>24</td>\n",
       "      <td>9-Apr</td>\n",
       "      <td>10-Jul</td>\n",
       "      <td>3109951.0</td>\n",
       "      <td>9.11</td>\n",
       "    </tr>\n",
       "    <tr>\n",
       "      <th>2</th>\n",
       "      <td>3</td>\n",
       "      <td>Bleach: Sennen Kessen-hen</td>\n",
       "      <td>508</td>\n",
       "      <td>Action, Adventure, Fantasy</td>\n",
       "      <td>Pierrot</td>\n",
       "      <td>TV</td>\n",
       "      <td>13.0</td>\n",
       "      <td>24</td>\n",
       "      <td>22-Oct</td>\n",
       "      <td>22-Dec</td>\n",
       "      <td>404036.0</td>\n",
       "      <td>9.09</td>\n",
       "    </tr>\n",
       "    <tr>\n",
       "      <th>3</th>\n",
       "      <td>4</td>\n",
       "      <td>Steins;Gate</td>\n",
       "      <td>13</td>\n",
       "      <td>Drama, Sci-Fi, Suspense</td>\n",
       "      <td>White Fox</td>\n",
       "      <td>TV</td>\n",
       "      <td>24.0</td>\n",
       "      <td>24</td>\n",
       "      <td>11-Apr</td>\n",
       "      <td>11-Sep</td>\n",
       "      <td>2393767.0</td>\n",
       "      <td>9.08</td>\n",
       "    </tr>\n",
       "    <tr>\n",
       "      <th>4</th>\n",
       "      <td>5</td>\n",
       "      <td>Gintama°</td>\n",
       "      <td>335</td>\n",
       "      <td>Action, Comedy, Sci-Fi</td>\n",
       "      <td>Bandai Namco Pictures</td>\n",
       "      <td>TV</td>\n",
       "      <td>51.0</td>\n",
       "      <td>24</td>\n",
       "      <td>15-Apr</td>\n",
       "      <td>16-Mar</td>\n",
       "      <td>581994.0</td>\n",
       "      <td>9.07</td>\n",
       "    </tr>\n",
       "    <tr>\n",
       "      <th>5</th>\n",
       "      <td>6</td>\n",
       "      <td>Kaguya-sama wa Kokurasetai: Ultra Romantic</td>\n",
       "      <td>221</td>\n",
       "      <td>Comedy, Romance</td>\n",
       "      <td>A-1 Pictures</td>\n",
       "      <td>TV</td>\n",
       "      <td>13.0</td>\n",
       "      <td>23</td>\n",
       "      <td>22-Apr</td>\n",
       "      <td>22-Jun</td>\n",
       "      <td>772019.0</td>\n",
       "      <td>9.06</td>\n",
       "    </tr>\n",
       "    <tr>\n",
       "      <th>6</th>\n",
       "      <td>7</td>\n",
       "      <td>Shingeki no Kyojin Season 3 Part 2</td>\n",
       "      <td>26</td>\n",
       "      <td>Action, Drama</td>\n",
       "      <td>Wit Studio</td>\n",
       "      <td>TV</td>\n",
       "      <td>10.0</td>\n",
       "      <td>23</td>\n",
       "      <td>19-Apr</td>\n",
       "      <td>19-Jul</td>\n",
       "      <td>2045115.0</td>\n",
       "      <td>9.06</td>\n",
       "    </tr>\n",
       "    <tr>\n",
       "      <th>7</th>\n",
       "      <td>8</td>\n",
       "      <td>Gintama: The Final</td>\n",
       "      <td>1581</td>\n",
       "      <td>Action, Comedy, Drama, Sci-Fi</td>\n",
       "      <td>Bandai Namco Pictures</td>\n",
       "      <td>Movie</td>\n",
       "      <td>1.0</td>\n",
       "      <td>104</td>\n",
       "      <td>21-Jan</td>\n",
       "      <td>21-Jan</td>\n",
       "      <td>126411.0</td>\n",
       "      <td>9.05</td>\n",
       "    </tr>\n",
       "    <tr>\n",
       "      <th>8</th>\n",
       "      <td>9</td>\n",
       "      <td>Gintama'</td>\n",
       "      <td>385</td>\n",
       "      <td>Action, Comedy, Sci-Fi</td>\n",
       "      <td>Sunrise</td>\n",
       "      <td>TV</td>\n",
       "      <td>51.0</td>\n",
       "      <td>24</td>\n",
       "      <td>11-Apr</td>\n",
       "      <td>12-Mar</td>\n",
       "      <td>513321.0</td>\n",
       "      <td>9.04</td>\n",
       "    </tr>\n",
       "    <tr>\n",
       "      <th>9</th>\n",
       "      <td>10</td>\n",
       "      <td>Hunter x Hunter (2011)</td>\n",
       "      <td>10</td>\n",
       "      <td>Action, Adventure, Fantasy</td>\n",
       "      <td>Madhouse</td>\n",
       "      <td>TV</td>\n",
       "      <td>148.0</td>\n",
       "      <td>23</td>\n",
       "      <td>11-Oct</td>\n",
       "      <td>14-Sep</td>\n",
       "      <td>2596435.0</td>\n",
       "      <td>9.04</td>\n",
       "    </tr>\n",
       "    <tr>\n",
       "      <th>10</th>\n",
       "      <td>11</td>\n",
       "      <td>Ginga Eiyuu Densetsu</td>\n",
       "      <td>724</td>\n",
       "      <td>Drama, Sci-Fi</td>\n",
       "      <td>K-Factory, Kitty Film Mitaka Studio</td>\n",
       "      <td>OVA</td>\n",
       "      <td>110.0</td>\n",
       "      <td>26</td>\n",
       "      <td>Jan-88</td>\n",
       "      <td>Mar-97</td>\n",
       "      <td>299874.0</td>\n",
       "      <td>9.03</td>\n",
       "    </tr>\n",
       "    <tr>\n",
       "      <th>11</th>\n",
       "      <td>12</td>\n",
       "      <td>Gintama': Enchousen</td>\n",
       "      <td>712</td>\n",
       "      <td>Action, Comedy, Sci-Fi</td>\n",
       "      <td>Sunrise</td>\n",
       "      <td>TV</td>\n",
       "      <td>13.0</td>\n",
       "      <td>24</td>\n",
       "      <td>12-Oct</td>\n",
       "      <td>13-Mar</td>\n",
       "      <td>303048.0</td>\n",
       "      <td>9.03</td>\n",
       "    </tr>\n",
       "    <tr>\n",
       "      <th>12</th>\n",
       "      <td>13</td>\n",
       "      <td>Fruits Basket: The Final</td>\n",
       "      <td>494</td>\n",
       "      <td>Drama, Romance, Supernatural</td>\n",
       "      <td>TMS Entertainment</td>\n",
       "      <td>TV</td>\n",
       "      <td>13.0</td>\n",
       "      <td>23</td>\n",
       "      <td>21-Apr</td>\n",
       "      <td>21-Jun</td>\n",
       "      <td>412917.0</td>\n",
       "      <td>9.01</td>\n",
       "    </tr>\n",
       "    <tr>\n",
       "      <th>13</th>\n",
       "      <td>14</td>\n",
       "      <td>Gintama.</td>\n",
       "      <td>744</td>\n",
       "      <td>Action, Comedy, Sci-Fi</td>\n",
       "      <td>Bandai Namco Pictures</td>\n",
       "      <td>TV</td>\n",
       "      <td>12.0</td>\n",
       "      <td>24</td>\n",
       "      <td>17-Jan</td>\n",
       "      <td>17-Mar</td>\n",
       "      <td>291330.0</td>\n",
       "      <td>8.99</td>\n",
       "    </tr>\n",
       "    <tr>\n",
       "      <th>14</th>\n",
       "      <td>15</td>\n",
       "      <td>Kaguya-sama wa Kokurasetai: First Kiss wa Owar...</td>\n",
       "      <td>1872</td>\n",
       "      <td>Comedy, Drama, Romance</td>\n",
       "      <td>A-1 Pictures</td>\n",
       "      <td>Movie</td>\n",
       "      <td>1.0</td>\n",
       "      <td>96</td>\n",
       "      <td>22-Dec</td>\n",
       "      <td>22-Dec</td>\n",
       "      <td>100847.0</td>\n",
       "      <td>8.95</td>\n",
       "    </tr>\n",
       "    <tr>\n",
       "      <th>15</th>\n",
       "      <td>16</td>\n",
       "      <td>3-gatsu no Lion 2nd Season</td>\n",
       "      <td>550</td>\n",
       "      <td>Drama, Slice of Life</td>\n",
       "      <td>Shaft</td>\n",
       "      <td>TV</td>\n",
       "      <td>22.0</td>\n",
       "      <td>25</td>\n",
       "      <td>17-Oct</td>\n",
       "      <td>18-Mar</td>\n",
       "      <td>376498.0</td>\n",
       "      <td>8.94</td>\n",
       "    </tr>\n",
       "    <tr>\n",
       "      <th>16</th>\n",
       "      <td>17</td>\n",
       "      <td>Clannad: After Story</td>\n",
       "      <td>111</td>\n",
       "      <td>Drama, Romance, Supernatural</td>\n",
       "      <td>Kyoto Animation</td>\n",
       "      <td>TV</td>\n",
       "      <td>24.0</td>\n",
       "      <td>24</td>\n",
       "      <td>8-Oct</td>\n",
       "      <td>9-Mar</td>\n",
       "      <td>1134162.0</td>\n",
       "      <td>8.94</td>\n",
       "    </tr>\n",
       "    <tr>\n",
       "      <th>17</th>\n",
       "      <td>18</td>\n",
       "      <td>Gintama</td>\n",
       "      <td>138</td>\n",
       "      <td>Action, Comedy, Sci-Fi</td>\n",
       "      <td>Sunrise</td>\n",
       "      <td>TV</td>\n",
       "      <td>201.0</td>\n",
       "      <td>24</td>\n",
       "      <td>6-Apr</td>\n",
       "      <td>10-Mar</td>\n",
       "      <td>1006869.0</td>\n",
       "      <td>8.94</td>\n",
       "    </tr>\n",
       "    <tr>\n",
       "      <th>18</th>\n",
       "      <td>19</td>\n",
       "      <td>Koe no Katachi</td>\n",
       "      <td>19</td>\n",
       "      <td>Award Winning, Drama</td>\n",
       "      <td>Kyoto Animation</td>\n",
       "      <td>Movie</td>\n",
       "      <td>1.0</td>\n",
       "      <td>130</td>\n",
       "      <td>16-Sep</td>\n",
       "      <td>16-Sep</td>\n",
       "      <td>2142847.0</td>\n",
       "      <td>8.94</td>\n",
       "    </tr>\n",
       "    <tr>\n",
       "      <th>19</th>\n",
       "      <td>20</td>\n",
       "      <td>Gintama Movie 2: Kanketsu-hen - Yorozuya yo Ei...</td>\n",
       "      <td>960</td>\n",
       "      <td>Action, Comedy, Sci-Fi</td>\n",
       "      <td>Sunrise</td>\n",
       "      <td>Movie</td>\n",
       "      <td>1.0</td>\n",
       "      <td>110</td>\n",
       "      <td>13-Jul</td>\n",
       "      <td>13-Jul</td>\n",
       "      <td>224966.0</td>\n",
       "      <td>8.92</td>\n",
       "    </tr>\n",
       "  </tbody>\n",
       "</table>\n",
       "</div>"
      ],
      "text/plain": [
       "    Rank                                              Title  Popularity  \\\n",
       "0      1  Shingeki no Kyojin: The Final Season - Kankets...         609   \n",
       "1      2                   Fullmetal Alchemist: Brotherhood           3   \n",
       "2      3                          Bleach: Sennen Kessen-hen         508   \n",
       "3      4                                        Steins;Gate          13   \n",
       "4      5                                           Gintama°         335   \n",
       "5      6         Kaguya-sama wa Kokurasetai: Ultra Romantic         221   \n",
       "6      7                 Shingeki no Kyojin Season 3 Part 2          26   \n",
       "7      8                                 Gintama: The Final        1581   \n",
       "8      9                                           Gintama'         385   \n",
       "9     10                             Hunter x Hunter (2011)          10   \n",
       "10    11                               Ginga Eiyuu Densetsu         724   \n",
       "11    12                                Gintama': Enchousen         712   \n",
       "12    13                           Fruits Basket: The Final         494   \n",
       "13    14                                           Gintama.         744   \n",
       "14    15  Kaguya-sama wa Kokurasetai: First Kiss wa Owar...        1872   \n",
       "15    16                         3-gatsu no Lion 2nd Season         550   \n",
       "16    17                               Clannad: After Story         111   \n",
       "17    18                                            Gintama         138   \n",
       "18    19                                     Koe no Katachi          19   \n",
       "19    20  Gintama Movie 2: Kanketsu-hen - Yorozuya yo Ei...         960   \n",
       "\n",
       "                                Genre                               Studio  \\\n",
       "0             Action, Drama, Suspense                                MAPPA   \n",
       "1   Action, Adventure, Drama, Fantasy                                Bones   \n",
       "2          Action, Adventure, Fantasy                              Pierrot   \n",
       "3             Drama, Sci-Fi, Suspense                            White Fox   \n",
       "4              Action, Comedy, Sci-Fi                Bandai Namco Pictures   \n",
       "5                     Comedy, Romance                         A-1 Pictures   \n",
       "6                       Action, Drama                           Wit Studio   \n",
       "7       Action, Comedy, Drama, Sci-Fi                Bandai Namco Pictures   \n",
       "8              Action, Comedy, Sci-Fi                              Sunrise   \n",
       "9          Action, Adventure, Fantasy                             Madhouse   \n",
       "10                      Drama, Sci-Fi  K-Factory, Kitty Film Mitaka Studio   \n",
       "11             Action, Comedy, Sci-Fi                              Sunrise   \n",
       "12       Drama, Romance, Supernatural                    TMS Entertainment   \n",
       "13             Action, Comedy, Sci-Fi                Bandai Namco Pictures   \n",
       "14             Comedy, Drama, Romance                         A-1 Pictures   \n",
       "15               Drama, Slice of Life                                Shaft   \n",
       "16       Drama, Romance, Supernatural                      Kyoto Animation   \n",
       "17             Action, Comedy, Sci-Fi                              Sunrise   \n",
       "18               Award Winning, Drama                      Kyoto Animation   \n",
       "19             Action, Comedy, Sci-Fi                              Sunrise   \n",
       "\n",
       "       Type  Episodes  Duration Start_date End_date    Members  Score  \n",
       "0   Special       2.0        61     23-Mar     2023   347875.0   9.17  \n",
       "1        TV      64.0        24      9-Apr   10-Jul  3109951.0   9.11  \n",
       "2        TV      13.0        24     22-Oct   22-Dec   404036.0   9.09  \n",
       "3        TV      24.0        24     11-Apr   11-Sep  2393767.0   9.08  \n",
       "4        TV      51.0        24     15-Apr   16-Mar   581994.0   9.07  \n",
       "5        TV      13.0        23     22-Apr   22-Jun   772019.0   9.06  \n",
       "6        TV      10.0        23     19-Apr   19-Jul  2045115.0   9.06  \n",
       "7     Movie       1.0       104     21-Jan   21-Jan   126411.0   9.05  \n",
       "8        TV      51.0        24     11-Apr   12-Mar   513321.0   9.04  \n",
       "9        TV     148.0        23     11-Oct   14-Sep  2596435.0   9.04  \n",
       "10      OVA     110.0        26     Jan-88   Mar-97   299874.0   9.03  \n",
       "11       TV      13.0        24     12-Oct   13-Mar   303048.0   9.03  \n",
       "12       TV      13.0        23     21-Apr   21-Jun   412917.0   9.01  \n",
       "13       TV      12.0        24     17-Jan   17-Mar   291330.0   8.99  \n",
       "14    Movie       1.0        96     22-Dec   22-Dec   100847.0   8.95  \n",
       "15       TV      22.0        25     17-Oct   18-Mar   376498.0   8.94  \n",
       "16       TV      24.0        24      8-Oct    9-Mar  1134162.0   8.94  \n",
       "17       TV     201.0        24      6-Apr   10-Mar  1006869.0   8.94  \n",
       "18    Movie       1.0       130     16-Sep   16-Sep  2142847.0   8.94  \n",
       "19    Movie       1.0       110     13-Jul   13-Jul   224966.0   8.92  "
      ]
     },
     "execution_count": 23,
     "metadata": {},
     "output_type": "execute_result"
    }
   ],
   "source": [
    "dados.head(20)"
   ]
  },
  {
   "cell_type": "markdown",
   "id": "14c35de8",
   "metadata": {
    "id": "uLe5gXU3BKGh",
    "papermill": {
     "duration": 0.016038,
     "end_time": "2023-04-13T19:06:20.681232",
     "exception": false,
     "start_time": "2023-04-13T19:06:20.665194",
     "status": "completed"
    },
    "tags": []
   },
   "source": [
    "##Classificação por Duration:\n",
    "\n",
    "###Duração Curta - de 1 a 32\n",
    "\n",
    "###Duração Média-Curta- de 32 a 64\n",
    "\n",
    "###Duração Média - de 64 a 96\n",
    "\n",
    "###Duração Média-Longa - de 96 a 128\n",
    "\n",
    "###Duração Longa = de 128 ou mais\n",
    "\n",
    "\n",
    "\n",
    "\n",
    "\n"
   ]
  },
  {
   "cell_type": "code",
   "execution_count": 24,
   "id": "be5a0187",
   "metadata": {
    "execution": {
     "iopub.execute_input": "2023-04-13T19:06:20.716390Z",
     "iopub.status.busy": "2023-04-13T19:06:20.715983Z",
     "iopub.status.idle": "2023-04-13T19:06:20.722500Z",
     "shell.execute_reply": "2023-04-13T19:06:20.721349Z"
    },
    "id": "5L0_itXgB3jF",
    "outputId": "a7425b2c-752b-4b05-f332-0800b4f2febe",
    "papermill": {
     "duration": 0.027093,
     "end_time": "2023-04-13T19:06:20.725236",
     "exception": false,
     "start_time": "2023-04-13T19:06:20.698143",
     "status": "completed"
    },
    "tags": []
   },
   "outputs": [
    {
     "data": {
      "text/plain": [
       "3"
      ]
     },
     "execution_count": 24,
     "metadata": {},
     "output_type": "execute_result"
    }
   ],
   "source": [
    "dados.Duration.min()"
   ]
  },
  {
   "cell_type": "code",
   "execution_count": 25,
   "id": "762b0471",
   "metadata": {
    "execution": {
     "iopub.execute_input": "2023-04-13T19:06:20.761688Z",
     "iopub.status.busy": "2023-04-13T19:06:20.761303Z",
     "iopub.status.idle": "2023-04-13T19:06:20.771111Z",
     "shell.execute_reply": "2023-04-13T19:06:20.769616Z"
    },
    "id": "jKYpUcEr_WiM",
    "outputId": "05f95df5-b116-4de5-dd02-fd6ea2d0c024",
    "papermill": {
     "duration": 0.03044,
     "end_time": "2023-04-13T19:06:20.773145",
     "exception": false,
     "start_time": "2023-04-13T19:06:20.742705",
     "status": "completed"
    },
    "tags": []
   },
   "outputs": [
    {
     "data": {
      "text/plain": [
       "3       1\n",
       "4       2\n",
       "5       1\n",
       "6       1\n",
       "9       1\n",
       "10      1\n",
       "16      1\n",
       "22     17\n",
       "23     58\n",
       "24     73\n",
       "25     22\n",
       "26      5\n",
       "27      2\n",
       "28      1\n",
       "29      2\n",
       "30      1\n",
       "34      1\n",
       "45      1\n",
       "47      2\n",
       "49      1\n",
       "50      1\n",
       "54      1\n",
       "61      1\n",
       "64      2\n",
       "68      1\n",
       "71      1\n",
       "73      1\n",
       "81      1\n",
       "83      1\n",
       "86      1\n",
       "88      1\n",
       "90      3\n",
       "91      1\n",
       "95      1\n",
       "96      2\n",
       "98      1\n",
       "104     3\n",
       "105     2\n",
       "106     1\n",
       "107     1\n",
       "108     1\n",
       "109     1\n",
       "110     2\n",
       "112     2\n",
       "114     2\n",
       "115     2\n",
       "116     2\n",
       "117     3\n",
       "119     1\n",
       "120     2\n",
       "121     2\n",
       "122     1\n",
       "124     2\n",
       "125     1\n",
       "130     1\n",
       "133     1\n",
       "140     1\n",
       "155     1\n",
       "161     1\n",
       "Name: Duration, dtype: int64"
      ]
     },
     "execution_count": 25,
     "metadata": {},
     "output_type": "execute_result"
    }
   ],
   "source": [
    "s = pd.Series(dados.Duration.value_counts())\n",
    "sorted = s.sort_index(ascending = True)\n",
    "sorted"
   ]
  },
  {
   "cell_type": "code",
   "execution_count": 26,
   "id": "267304e5",
   "metadata": {
    "execution": {
     "iopub.execute_input": "2023-04-13T19:06:20.808258Z",
     "iopub.status.busy": "2023-04-13T19:06:20.807892Z",
     "iopub.status.idle": "2023-04-13T19:06:20.812935Z",
     "shell.execute_reply": "2023-04-13T19:06:20.811606Z"
    },
    "id": "Wz16axRu_mMS",
    "papermill": {
     "duration": 0.025299,
     "end_time": "2023-04-13T19:06:20.815099",
     "exception": false,
     "start_time": "2023-04-13T19:06:20.789800",
     "status": "completed"
    },
    "tags": []
   },
   "outputs": [],
   "source": [
    "classes = [3,32,64,96,128,161]\n",
    "labels = ['Duração Curta','Duração Média-Curta','Duração Média','Duração Média-Longa','Duração Longa']\n"
   ]
  },
  {
   "cell_type": "code",
   "execution_count": 27,
   "id": "403ce6a2",
   "metadata": {
    "execution": {
     "iopub.execute_input": "2023-04-13T19:06:20.849483Z",
     "iopub.status.busy": "2023-04-13T19:06:20.849045Z",
     "iopub.status.idle": "2023-04-13T19:06:20.862507Z",
     "shell.execute_reply": "2023-04-13T19:06:20.861068Z"
    },
    "id": "WVw864UQJKEV",
    "outputId": "bf9edbf3-17ee-4e24-9680-e601d9133f8e",
    "papermill": {
     "duration": 0.033556,
     "end_time": "2023-04-13T19:06:20.865076",
     "exception": false,
     "start_time": "2023-04-13T19:06:20.831520",
     "status": "completed"
    },
    "tags": []
   },
   "outputs": [
    {
     "data": {
      "text/plain": [
       "Duração Curta          189\n",
       "Duração Média-Longa     32\n",
       "Duração Média           14\n",
       "Duração Média-Curta     10\n",
       "Duração Longa            5\n",
       "Name: Duration, dtype: int64"
      ]
     },
     "execution_count": 27,
     "metadata": {},
     "output_type": "execute_result"
    }
   ],
   "source": [
    "frequencia = pd.value_counts(pd.cut(\n",
    "    x = dados.Duration,\n",
    "    bins = classes,\n",
    "    labels = labels,\n",
    "    include_lowest = True\n",
    "\n",
    "))\n",
    "frequencia"
   ]
  },
  {
   "cell_type": "code",
   "execution_count": 28,
   "id": "57092f16",
   "metadata": {
    "execution": {
     "iopub.execute_input": "2023-04-13T19:06:20.901894Z",
     "iopub.status.busy": "2023-04-13T19:06:20.901511Z",
     "iopub.status.idle": "2023-04-13T19:06:20.914203Z",
     "shell.execute_reply": "2023-04-13T19:06:20.912749Z"
    },
    "id": "e3wpZDJjJKHH",
    "outputId": "b0a461d9-9e88-4c39-8726-8d240c21fede",
    "papermill": {
     "duration": 0.033866,
     "end_time": "2023-04-13T19:06:20.916606",
     "exception": false,
     "start_time": "2023-04-13T19:06:20.882740",
     "status": "completed"
    },
    "tags": []
   },
   "outputs": [
    {
     "data": {
      "text/plain": [
       "Duração Curta          75.6\n",
       "Duração Média-Longa    12.8\n",
       "Duração Média           5.6\n",
       "Duração Média-Curta     4.0\n",
       "Duração Longa           2.0\n",
       "Name: Duration, dtype: float64"
      ]
     },
     "execution_count": 28,
     "metadata": {},
     "output_type": "execute_result"
    }
   ],
   "source": [
    "percentual = pd.value_counts(pd.cut(\n",
    "    x = dados.Duration,\n",
    "    bins = classes,\n",
    "    labels = labels,\n",
    "    include_lowest = True\n",
    "), normalize = True)*100\n",
    "\n",
    "percentual"
   ]
  },
  {
   "cell_type": "code",
   "execution_count": 29,
   "id": "f3c1c834",
   "metadata": {
    "execution": {
     "iopub.execute_input": "2023-04-13T19:06:20.952486Z",
     "iopub.status.busy": "2023-04-13T19:06:20.952101Z",
     "iopub.status.idle": "2023-04-13T19:06:20.966130Z",
     "shell.execute_reply": "2023-04-13T19:06:20.964859Z"
    },
    "id": "EIsaXNmcJKLl",
    "outputId": "bbf8eeec-cd5d-4d3b-814b-296d4965773c",
    "papermill": {
     "duration": 0.033761,
     "end_time": "2023-04-13T19:06:20.967907",
     "exception": false,
     "start_time": "2023-04-13T19:06:20.934146",
     "status": "completed"
    },
    "tags": []
   },
   "outputs": [
    {
     "data": {
      "text/html": [
       "<div>\n",
       "<style scoped>\n",
       "    .dataframe tbody tr th:only-of-type {\n",
       "        vertical-align: middle;\n",
       "    }\n",
       "\n",
       "    .dataframe tbody tr th {\n",
       "        vertical-align: top;\n",
       "    }\n",
       "\n",
       "    .dataframe thead th {\n",
       "        text-align: right;\n",
       "    }\n",
       "</style>\n",
       "<table border=\"1\" class=\"dataframe\">\n",
       "  <thead>\n",
       "    <tr style=\"text-align: right;\">\n",
       "      <th></th>\n",
       "      <th>Frequencia</th>\n",
       "      <th>Percentual (%)</th>\n",
       "    </tr>\n",
       "  </thead>\n",
       "  <tbody>\n",
       "    <tr>\n",
       "      <th>Duração Curta</th>\n",
       "      <td>189</td>\n",
       "      <td>75.6</td>\n",
       "    </tr>\n",
       "    <tr>\n",
       "      <th>Duração Média-Longa</th>\n",
       "      <td>32</td>\n",
       "      <td>12.8</td>\n",
       "    </tr>\n",
       "    <tr>\n",
       "      <th>Duração Média</th>\n",
       "      <td>14</td>\n",
       "      <td>5.6</td>\n",
       "    </tr>\n",
       "    <tr>\n",
       "      <th>Duração Média-Curta</th>\n",
       "      <td>10</td>\n",
       "      <td>4.0</td>\n",
       "    </tr>\n",
       "    <tr>\n",
       "      <th>Duração Longa</th>\n",
       "      <td>5</td>\n",
       "      <td>2.0</td>\n",
       "    </tr>\n",
       "  </tbody>\n",
       "</table>\n",
       "</div>"
      ],
      "text/plain": [
       "                     Frequencia  Percentual (%)\n",
       "Duração Curta               189            75.6\n",
       "Duração Média-Longa          32            12.8\n",
       "Duração Média                14             5.6\n",
       "Duração Média-Curta          10             4.0\n",
       "Duração Longa                 5             2.0"
      ]
     },
     "execution_count": 29,
     "metadata": {},
     "output_type": "execute_result"
    }
   ],
   "source": [
    "dist_frequencia_quantitativa = pd.DataFrame(\n",
    "    {'Frequencia' : frequencia, 'Percentual (%)' : percentual}\n",
    ")\n",
    "dist_frequencia_quantitativa"
   ]
  },
  {
   "cell_type": "code",
   "execution_count": 30,
   "id": "558c8d65",
   "metadata": {
    "execution": {
     "iopub.execute_input": "2023-04-13T19:06:21.004227Z",
     "iopub.status.busy": "2023-04-13T19:06:21.003013Z",
     "iopub.status.idle": "2023-04-13T19:06:21.014035Z",
     "shell.execute_reply": "2023-04-13T19:06:21.012581Z"
    },
    "id": "2yYXQnyuJKOB",
    "outputId": "c76ae68e-7010-4df1-a488-35112829c720",
    "papermill": {
     "duration": 0.03164,
     "end_time": "2023-04-13T19:06:21.016338",
     "exception": false,
     "start_time": "2023-04-13T19:06:20.984698",
     "status": "completed"
    },
    "tags": []
   },
   "outputs": [
    {
     "data": {
      "text/html": [
       "<div>\n",
       "<style scoped>\n",
       "    .dataframe tbody tr th:only-of-type {\n",
       "        vertical-align: middle;\n",
       "    }\n",
       "\n",
       "    .dataframe tbody tr th {\n",
       "        vertical-align: top;\n",
       "    }\n",
       "\n",
       "    .dataframe thead th {\n",
       "        text-align: right;\n",
       "    }\n",
       "</style>\n",
       "<table border=\"1\" class=\"dataframe\">\n",
       "  <thead>\n",
       "    <tr style=\"text-align: right;\">\n",
       "      <th></th>\n",
       "      <th>Frequencia</th>\n",
       "      <th>Percentual (%)</th>\n",
       "    </tr>\n",
       "  </thead>\n",
       "  <tbody>\n",
       "    <tr>\n",
       "      <th>Duração Longa</th>\n",
       "      <td>5</td>\n",
       "      <td>2.0</td>\n",
       "    </tr>\n",
       "    <tr>\n",
       "      <th>Duração Média-Longa</th>\n",
       "      <td>32</td>\n",
       "      <td>12.8</td>\n",
       "    </tr>\n",
       "    <tr>\n",
       "      <th>Duração Média</th>\n",
       "      <td>14</td>\n",
       "      <td>5.6</td>\n",
       "    </tr>\n",
       "    <tr>\n",
       "      <th>Duração Média-Curta</th>\n",
       "      <td>10</td>\n",
       "      <td>4.0</td>\n",
       "    </tr>\n",
       "    <tr>\n",
       "      <th>Duração Curta</th>\n",
       "      <td>189</td>\n",
       "      <td>75.6</td>\n",
       "    </tr>\n",
       "  </tbody>\n",
       "</table>\n",
       "</div>"
      ],
      "text/plain": [
       "                     Frequencia  Percentual (%)\n",
       "Duração Longa                 5             2.0\n",
       "Duração Média-Longa          32            12.8\n",
       "Duração Média                14             5.6\n",
       "Duração Média-Curta          10             4.0\n",
       "Duração Curta               189            75.6"
      ]
     },
     "execution_count": 30,
     "metadata": {},
     "output_type": "execute_result"
    }
   ],
   "source": [
    "dist_frequencia_quantitativa.sort_index(ascending = False)"
   ]
  },
  {
   "cell_type": "markdown",
   "id": "56598e0d",
   "metadata": {
    "id": "v6r3UDRwPXE2",
    "papermill": {
     "duration": 0.016467,
     "end_time": "2023-04-13T19:06:21.050040",
     "exception": false,
     "start_time": "2023-04-13T19:06:21.033573",
     "status": "completed"
    },
    "tags": []
   },
   "source": [
    "#Utilizando metodo de Sturges"
   ]
  },
  {
   "cell_type": "code",
   "execution_count": 31,
   "id": "f5f8c80e",
   "metadata": {
    "execution": {
     "iopub.execute_input": "2023-04-13T19:06:21.085677Z",
     "iopub.status.busy": "2023-04-13T19:06:21.085256Z",
     "iopub.status.idle": "2023-04-13T19:06:21.090322Z",
     "shell.execute_reply": "2023-04-13T19:06:21.088550Z"
    },
    "id": "u8CKzq3UJKQy",
    "papermill": {
     "duration": 0.025334,
     "end_time": "2023-04-13T19:06:21.092180",
     "exception": false,
     "start_time": "2023-04-13T19:06:21.066846",
     "status": "completed"
    },
    "tags": []
   },
   "outputs": [],
   "source": [
    "import numpy as np"
   ]
  },
  {
   "cell_type": "code",
   "execution_count": 32,
   "id": "26a02141",
   "metadata": {
    "execution": {
     "iopub.execute_input": "2023-04-13T19:06:21.127988Z",
     "iopub.status.busy": "2023-04-13T19:06:21.127447Z",
     "iopub.status.idle": "2023-04-13T19:06:21.134247Z",
     "shell.execute_reply": "2023-04-13T19:06:21.132624Z"
    },
    "id": "sHaRxYzHJKVE",
    "outputId": "01020a0c-44c7-451d-87b7-71748f06b4de",
    "papermill": {
     "duration": 0.02729,
     "end_time": "2023-04-13T19:06:21.136399",
     "exception": false,
     "start_time": "2023-04-13T19:06:21.109109",
     "status": "completed"
    },
    "tags": []
   },
   "outputs": [
    {
     "data": {
      "text/plain": [
       "250"
      ]
     },
     "execution_count": 32,
     "metadata": {},
     "output_type": "execute_result"
    }
   ],
   "source": [
    "n = dados.shape[0]\n",
    "n"
   ]
  },
  {
   "cell_type": "code",
   "execution_count": 33,
   "id": "f284e216",
   "metadata": {
    "execution": {
     "iopub.execute_input": "2023-04-13T19:06:21.174949Z",
     "iopub.status.busy": "2023-04-13T19:06:21.174554Z",
     "iopub.status.idle": "2023-04-13T19:06:21.181537Z",
     "shell.execute_reply": "2023-04-13T19:06:21.179634Z"
    },
    "id": "5iQn2atIJKYZ",
    "outputId": "94ca6038-8d4c-4c9e-a4fd-e1a98ab21004",
    "papermill": {
     "duration": 0.028772,
     "end_time": "2023-04-13T19:06:21.183594",
     "exception": false,
     "start_time": "2023-04-13T19:06:21.154822",
     "status": "completed"
    },
    "tags": []
   },
   "outputs": [
    {
     "name": "stdout",
     "output_type": "stream",
     "text": [
      "Valor de classes => k = 8\n"
     ]
    }
   ],
   "source": [
    "k = int(1+ (10 / 3)*np.log10(n))\n",
    "print('Valor de classes => k =', k)"
   ]
  },
  {
   "cell_type": "code",
   "execution_count": 34,
   "id": "8b472bd5",
   "metadata": {
    "execution": {
     "iopub.execute_input": "2023-04-13T19:06:21.220212Z",
     "iopub.status.busy": "2023-04-13T19:06:21.219812Z",
     "iopub.status.idle": "2023-04-13T19:06:21.239580Z",
     "shell.execute_reply": "2023-04-13T19:06:21.237963Z"
    },
    "id": "53ugvC8AA6bK",
    "outputId": "871a5255-b5fe-46bb-99e4-0c059d801c08",
    "papermill": {
     "duration": 0.040777,
     "end_time": "2023-04-13T19:06:21.242033",
     "exception": false,
     "start_time": "2023-04-13T19:06:21.201256",
     "status": "completed"
    },
    "tags": []
   },
   "outputs": [
    {
     "data": {
      "text/plain": [
       "(2.841, 22.75]      25\n",
       "(22.75, 42.5]      165\n",
       "(42.5, 62.25]        7\n",
       "(62.25, 82.0]        6\n",
       "(82.0, 101.75]      11\n",
       "(101.75, 121.5]     27\n",
       "(121.5, 141.25]      7\n",
       "(141.25, 161.0]      2\n",
       "Name: Duration, dtype: int64"
      ]
     },
     "execution_count": 34,
     "metadata": {},
     "output_type": "execute_result"
    }
   ],
   "source": [
    "frequencia_k = pd.value_counts(\n",
    "    pd.cut(\n",
    "        x = dados.Duration,\n",
    "        bins = k,\n",
    "        include_lowest = True\n",
    "        ), sort = False)\n",
    "frequencia_k\n"
   ]
  },
  {
   "cell_type": "code",
   "execution_count": 35,
   "id": "ad57d013",
   "metadata": {
    "execution": {
     "iopub.execute_input": "2023-04-13T19:06:21.278163Z",
     "iopub.status.busy": "2023-04-13T19:06:21.277806Z",
     "iopub.status.idle": "2023-04-13T19:06:21.290711Z",
     "shell.execute_reply": "2023-04-13T19:06:21.289925Z"
    },
    "id": "qvOj8fSMP1GQ",
    "outputId": "4a8b35e0-9429-495c-bb4d-8f927bfb1e3e",
    "papermill": {
     "duration": 0.033222,
     "end_time": "2023-04-13T19:06:21.292617",
     "exception": false,
     "start_time": "2023-04-13T19:06:21.259395",
     "status": "completed"
    },
    "tags": []
   },
   "outputs": [
    {
     "data": {
      "text/plain": [
       "(2.841, 22.75]     10.0\n",
       "(22.75, 42.5]      66.0\n",
       "(42.5, 62.25]       2.8\n",
       "(62.25, 82.0]       2.4\n",
       "(82.0, 101.75]      4.4\n",
       "(101.75, 121.5]    10.8\n",
       "(121.5, 141.25]     2.8\n",
       "(141.25, 161.0]     0.8\n",
       "Name: Duration, dtype: float64"
      ]
     },
     "execution_count": 35,
     "metadata": {},
     "output_type": "execute_result"
    }
   ],
   "source": [
    "percentual_k = pd.value_counts(\n",
    "    pd.cut(\n",
    "        x = dados.Duration,\n",
    "        bins = k,\n",
    "        include_lowest = True\n",
    "    ), sort = False, normalize = True)*100\n",
    "percentual_k"
   ]
  },
  {
   "cell_type": "code",
   "execution_count": 36,
   "id": "89e2fef3",
   "metadata": {
    "execution": {
     "iopub.execute_input": "2023-04-13T19:06:21.328454Z",
     "iopub.status.busy": "2023-04-13T19:06:21.328096Z",
     "iopub.status.idle": "2023-04-13T19:06:21.339910Z",
     "shell.execute_reply": "2023-04-13T19:06:21.339212Z"
    },
    "id": "KD3MUEZ4P1JK",
    "outputId": "9046be97-dc3f-4619-8481-0c51592b6552",
    "papermill": {
     "duration": 0.031753,
     "end_time": "2023-04-13T19:06:21.341624",
     "exception": false,
     "start_time": "2023-04-13T19:06:21.309871",
     "status": "completed"
    },
    "tags": []
   },
   "outputs": [
    {
     "data": {
      "text/html": [
       "<div>\n",
       "<style scoped>\n",
       "    .dataframe tbody tr th:only-of-type {\n",
       "        vertical-align: middle;\n",
       "    }\n",
       "\n",
       "    .dataframe tbody tr th {\n",
       "        vertical-align: top;\n",
       "    }\n",
       "\n",
       "    .dataframe thead th {\n",
       "        text-align: right;\n",
       "    }\n",
       "</style>\n",
       "<table border=\"1\" class=\"dataframe\">\n",
       "  <thead>\n",
       "    <tr style=\"text-align: right;\">\n",
       "      <th>Classificação(K)</th>\n",
       "      <th>Frequencia</th>\n",
       "      <th>Percentual(%)</th>\n",
       "    </tr>\n",
       "  </thead>\n",
       "  <tbody>\n",
       "    <tr>\n",
       "      <th>(2.841, 22.75]</th>\n",
       "      <td>25</td>\n",
       "      <td>10.0</td>\n",
       "    </tr>\n",
       "    <tr>\n",
       "      <th>(22.75, 42.5]</th>\n",
       "      <td>165</td>\n",
       "      <td>66.0</td>\n",
       "    </tr>\n",
       "    <tr>\n",
       "      <th>(42.5, 62.25]</th>\n",
       "      <td>7</td>\n",
       "      <td>2.8</td>\n",
       "    </tr>\n",
       "    <tr>\n",
       "      <th>(62.25, 82.0]</th>\n",
       "      <td>6</td>\n",
       "      <td>2.4</td>\n",
       "    </tr>\n",
       "    <tr>\n",
       "      <th>(82.0, 101.75]</th>\n",
       "      <td>11</td>\n",
       "      <td>4.4</td>\n",
       "    </tr>\n",
       "    <tr>\n",
       "      <th>(101.75, 121.5]</th>\n",
       "      <td>27</td>\n",
       "      <td>10.8</td>\n",
       "    </tr>\n",
       "    <tr>\n",
       "      <th>(121.5, 141.25]</th>\n",
       "      <td>7</td>\n",
       "      <td>2.8</td>\n",
       "    </tr>\n",
       "    <tr>\n",
       "      <th>(141.25, 161.0]</th>\n",
       "      <td>2</td>\n",
       "      <td>0.8</td>\n",
       "    </tr>\n",
       "  </tbody>\n",
       "</table>\n",
       "</div>"
      ],
      "text/plain": [
       "Classificação(K)  Frequencia  Percentual(%)\n",
       "(2.841, 22.75]            25           10.0\n",
       "(22.75, 42.5]            165           66.0\n",
       "(42.5, 62.25]              7            2.8\n",
       "(62.25, 82.0]              6            2.4\n",
       "(82.0, 101.75]            11            4.4\n",
       "(101.75, 121.5]           27           10.8\n",
       "(121.5, 141.25]            7            2.8\n",
       "(141.25, 161.0]            2            0.8"
      ]
     },
     "execution_count": 36,
     "metadata": {},
     "output_type": "execute_result"
    }
   ],
   "source": [
    "dist_freq_quantitativa_k = pd.DataFrame({'Frequencia' : frequencia_k, 'Percentual(%)' : percentual_k})\n",
    "dist_freq_quantitativa_k.rename_axis('Classificação(K)', axis = 'columns', inplace = True)\n",
    "dist_freq_quantitativa_k"
   ]
  },
  {
   "cell_type": "markdown",
   "id": "d7324aec",
   "metadata": {
    "id": "SqXnvE6_Urdb",
    "papermill": {
     "duration": 0.01743,
     "end_time": "2023-04-13T19:06:21.376523",
     "exception": false,
     "start_time": "2023-04-13T19:06:21.359093",
     "status": "completed"
    },
    "tags": []
   },
   "source": [
    "#Criando analise com Histograma"
   ]
  },
  {
   "cell_type": "code",
   "execution_count": 37,
   "id": "edc5fa84",
   "metadata": {
    "execution": {
     "iopub.execute_input": "2023-04-13T19:06:21.415743Z",
     "iopub.status.busy": "2023-04-13T19:06:21.414138Z",
     "iopub.status.idle": "2023-04-13T19:06:22.506492Z",
     "shell.execute_reply": "2023-04-13T19:06:22.504921Z"
    },
    "id": "iOUkOnwYP1MD",
    "papermill": {
     "duration": 1.11336,
     "end_time": "2023-04-13T19:06:22.508773",
     "exception": false,
     "start_time": "2023-04-13T19:06:21.395413",
     "status": "completed"
    },
    "tags": []
   },
   "outputs": [],
   "source": [
    "import seaborn as sns"
   ]
  },
  {
   "cell_type": "code",
   "execution_count": 38,
   "id": "c046d3ad",
   "metadata": {
    "execution": {
     "iopub.execute_input": "2023-04-13T19:06:22.545046Z",
     "iopub.status.busy": "2023-04-13T19:06:22.544711Z",
     "iopub.status.idle": "2023-04-13T19:06:22.822613Z",
     "shell.execute_reply": "2023-04-13T19:06:22.821345Z"
    },
    "id": "9OL7WWtlUmnR",
    "outputId": "bbd700bc-6e81-444d-fe8e-e837e0efd952",
    "papermill": {
     "duration": 0.299015,
     "end_time": "2023-04-13T19:06:22.825204",
     "exception": false,
     "start_time": "2023-04-13T19:06:22.526189",
     "status": "completed"
    },
    "tags": []
   },
   "outputs": [
    {
     "name": "stderr",
     "output_type": "stream",
     "text": [
      "/opt/conda/lib/python3.7/site-packages/ipykernel_launcher.py:1: UserWarning: \n",
      "\n",
      "`distplot` is a deprecated function and will be removed in seaborn v0.14.0.\n",
      "\n",
      "Please adapt your code to use either `displot` (a figure-level function with\n",
      "similar flexibility) or `histplot` (an axes-level function for histograms).\n",
      "\n",
      "For a guide to updating your code to use the new functions, please see\n",
      "https://gist.github.com/mwaskom/de44147ed2974457ad6372750bbe5751\n",
      "\n",
      "  \"\"\"Entry point for launching an IPython kernel.\n"
     ]
    },
    {
     "data": {
      "text/plain": [
       "<AxesSubplot:title={'center':'Distribuição de Frequencias - Duração'}, xlabel='Minutos', ylabel='Density'>"
      ]
     },
     "execution_count": 38,
     "metadata": {},
     "output_type": "execute_result"
    },
    {
     "data": {
      "image/png": "[encoded data removed]",
      "text/plain": [
       "<Figure size 1200x600 with 1 Axes>"
      ]
     },
     "metadata": {},
     "output_type": "display_data"
    }
   ],
   "source": [
    "ax = sns.distplot(dist_frequencia_quantitativa, kde = True)\n",
    "ax.figure.set_size_inches(12,6)\n",
    "ax.set_title('Distribuição de Frequencias - Duração', fontsize=18)\n",
    "ax.set_xlabel('Minutos', fontsize = 14)\n",
    "ax"
   ]
  },
  {
   "cell_type": "code",
   "execution_count": 39,
   "id": "eb6006db",
   "metadata": {
    "execution": {
     "iopub.execute_input": "2023-04-13T19:06:22.864004Z",
     "iopub.status.busy": "2023-04-13T19:06:22.863161Z",
     "iopub.status.idle": "2023-04-13T19:06:23.096953Z",
     "shell.execute_reply": "2023-04-13T19:06:23.095427Z"
    },
    "id": "djv-3qAXUmq0",
    "outputId": "8ff21ada-519c-4656-ba5f-a59bb2e22f0e",
    "papermill": {
     "duration": 0.255765,
     "end_time": "2023-04-13T19:06:23.099314",
     "exception": false,
     "start_time": "2023-04-13T19:06:22.843549",
     "status": "completed"
    },
    "tags": []
   },
   "outputs": [
    {
     "data": {
      "text/plain": [
       "<AxesSubplot:>"
      ]
     },
     "execution_count": 39,
     "metadata": {},
     "output_type": "execute_result"
    },
    {
     "data": {
      "image/png": "[encoded data removed]",
      "text/plain": [
       "<Figure size 1200x600 with 1 Axes>"
      ]
     },
     "metadata": {},
     "output_type": "display_data"
    }
   ],
   "source": [
    "dist_frequencia_quantitativa['Frequencia'].plot.bar(width = 1, color = 'blue', alpha = 0.5, figsize=(12,6))"
   ]
  },
  {
   "cell_type": "code",
   "execution_count": 40,
   "id": "19b0ed4f",
   "metadata": {
    "execution": {
     "iopub.execute_input": "2023-04-13T19:06:23.138598Z",
     "iopub.status.busy": "2023-04-13T19:06:23.138206Z",
     "iopub.status.idle": "2023-04-13T19:06:23.583650Z",
     "shell.execute_reply": "2023-04-13T19:06:23.581962Z"
    },
    "id": "ECdaaG9mUmtg",
    "outputId": "e62efb4f-b581-41e7-b8bb-4a3a773cf83c",
    "papermill": {
     "duration": 0.468263,
     "end_time": "2023-04-13T19:06:23.585770",
     "exception": false,
     "start_time": "2023-04-13T19:06:23.117507",
     "status": "completed"
    },
    "tags": []
   },
   "outputs": [
    {
     "data": {
      "text/plain": [
       "array([[<AxesSubplot:title={'center':'Frequencia'}>,\n",
       "        <AxesSubplot:title={'center':'Percentual (%)'}>]], dtype=object)"
      ]
     },
     "execution_count": 40,
     "metadata": {},
     "output_type": "execute_result"
    },
    {
     "data": {
      "image/png": "[encoded data removed]",
      "text/plain": [
       "<Figure size 1200x600 with 2 Axes>"
      ]
     },
     "metadata": {},
     "output_type": "display_data"
    }
   ],
   "source": [
    "dist_frequencia_quantitativa.hist(bins = 50, figsize=(12,6))"
   ]
  },
  {
   "cell_type": "markdown",
   "id": "b04658a9",
   "metadata": {
    "id": "hm6r27C5adzB",
    "papermill": {
     "duration": 0.01827,
     "end_time": "2023-04-13T19:06:23.622745",
     "exception": false,
     "start_time": "2023-04-13T19:06:23.604475",
     "status": "completed"
    },
    "tags": []
   },
   "source": [
    "## <font color=Purple>Relação entre média, mediana e moda</font>\n",
    "***"
   ]
  },
  {
   "cell_type": "markdown",
   "id": "3dd9a504",
   "metadata": {
    "id": "1j3NbZ7XaZY3",
    "papermill": {
     "duration": 0.01817,
     "end_time": "2023-04-13T19:06:23.659345",
     "exception": false,
     "start_time": "2023-04-13T19:06:23.641175",
     "status": "completed"
    },
    "tags": []
   },
   "source": [
    "<img src='https://caelum-online-public.s3.amazonaws.com/1177-estatistica-parte1/01/img004.png' width='80%'>"
   ]
  },
  {
   "cell_type": "code",
   "execution_count": 41,
   "id": "d33f6f6f",
   "metadata": {
    "execution": {
     "iopub.execute_input": "2023-04-13T19:06:23.698454Z",
     "iopub.status.busy": "2023-04-13T19:06:23.698098Z",
     "iopub.status.idle": "2023-04-13T19:06:23.715875Z",
     "shell.execute_reply": "2023-04-13T19:06:23.714243Z"
    },
    "id": "vBaZAJQ8ayfW",
    "outputId": "ed8bda48-5821-462c-bdcd-d3eeb9f6b120",
    "papermill": {
     "duration": 0.040337,
     "end_time": "2023-04-13T19:06:23.718107",
     "exception": false,
     "start_time": "2023-04-13T19:06:23.677770",
     "status": "completed"
    },
    "tags": []
   },
   "outputs": [
    {
     "data": {
      "text/html": [
       "<div>\n",
       "<style scoped>\n",
       "    .dataframe tbody tr th:only-of-type {\n",
       "        vertical-align: middle;\n",
       "    }\n",
       "\n",
       "    .dataframe tbody tr th {\n",
       "        vertical-align: top;\n",
       "    }\n",
       "\n",
       "    .dataframe thead th {\n",
       "        text-align: right;\n",
       "    }\n",
       "</style>\n",
       "<table border=\"1\" class=\"dataframe\">\n",
       "  <thead>\n",
       "    <tr style=\"text-align: right;\">\n",
       "      <th></th>\n",
       "      <th>Rank</th>\n",
       "      <th>Title</th>\n",
       "      <th>Popularity</th>\n",
       "      <th>Genre</th>\n",
       "      <th>Studio</th>\n",
       "      <th>Type</th>\n",
       "      <th>Episodes</th>\n",
       "      <th>Duration</th>\n",
       "      <th>Start_date</th>\n",
       "      <th>End_date</th>\n",
       "      <th>Members</th>\n",
       "      <th>Score</th>\n",
       "    </tr>\n",
       "  </thead>\n",
       "  <tbody>\n",
       "    <tr>\n",
       "      <th>0</th>\n",
       "      <td>1</td>\n",
       "      <td>Shingeki no Kyojin: The Final Season - Kankets...</td>\n",
       "      <td>609</td>\n",
       "      <td>Action, Drama, Suspense</td>\n",
       "      <td>MAPPA</td>\n",
       "      <td>Special</td>\n",
       "      <td>2.0</td>\n",
       "      <td>61</td>\n",
       "      <td>23-Mar</td>\n",
       "      <td>2023</td>\n",
       "      <td>347875.0</td>\n",
       "      <td>9.17</td>\n",
       "    </tr>\n",
       "    <tr>\n",
       "      <th>1</th>\n",
       "      <td>2</td>\n",
       "      <td>Fullmetal Alchemist: Brotherhood</td>\n",
       "      <td>3</td>\n",
       "      <td>Action, Adventure, Drama, Fantasy</td>\n",
       "      <td>Bones</td>\n",
       "      <td>TV</td>\n",
       "      <td>64.0</td>\n",
       "      <td>24</td>\n",
       "      <td>9-Apr</td>\n",
       "      <td>10-Jul</td>\n",
       "      <td>3109951.0</td>\n",
       "      <td>9.11</td>\n",
       "    </tr>\n",
       "    <tr>\n",
       "      <th>2</th>\n",
       "      <td>3</td>\n",
       "      <td>Bleach: Sennen Kessen-hen</td>\n",
       "      <td>508</td>\n",
       "      <td>Action, Adventure, Fantasy</td>\n",
       "      <td>Pierrot</td>\n",
       "      <td>TV</td>\n",
       "      <td>13.0</td>\n",
       "      <td>24</td>\n",
       "      <td>22-Oct</td>\n",
       "      <td>22-Dec</td>\n",
       "      <td>404036.0</td>\n",
       "      <td>9.09</td>\n",
       "    </tr>\n",
       "    <tr>\n",
       "      <th>3</th>\n",
       "      <td>4</td>\n",
       "      <td>Steins;Gate</td>\n",
       "      <td>13</td>\n",
       "      <td>Drama, Sci-Fi, Suspense</td>\n",
       "      <td>White Fox</td>\n",
       "      <td>TV</td>\n",
       "      <td>24.0</td>\n",
       "      <td>24</td>\n",
       "      <td>11-Apr</td>\n",
       "      <td>11-Sep</td>\n",
       "      <td>2393767.0</td>\n",
       "      <td>9.08</td>\n",
       "    </tr>\n",
       "    <tr>\n",
       "      <th>4</th>\n",
       "      <td>5</td>\n",
       "      <td>Gintama°</td>\n",
       "      <td>335</td>\n",
       "      <td>Action, Comedy, Sci-Fi</td>\n",
       "      <td>Bandai Namco Pictures</td>\n",
       "      <td>TV</td>\n",
       "      <td>51.0</td>\n",
       "      <td>24</td>\n",
       "      <td>15-Apr</td>\n",
       "      <td>16-Mar</td>\n",
       "      <td>581994.0</td>\n",
       "      <td>9.07</td>\n",
       "    </tr>\n",
       "  </tbody>\n",
       "</table>\n",
       "</div>"
      ],
      "text/plain": [
       "   Rank                                              Title  Popularity  \\\n",
       "0     1  Shingeki no Kyojin: The Final Season - Kankets...         609   \n",
       "1     2                   Fullmetal Alchemist: Brotherhood           3   \n",
       "2     3                          Bleach: Sennen Kessen-hen         508   \n",
       "3     4                                        Steins;Gate          13   \n",
       "4     5                                           Gintama°         335   \n",
       "\n",
       "                               Genre                 Studio     Type  \\\n",
       "0            Action, Drama, Suspense                  MAPPA  Special   \n",
       "1  Action, Adventure, Drama, Fantasy                  Bones       TV   \n",
       "2         Action, Adventure, Fantasy                Pierrot       TV   \n",
       "3            Drama, Sci-Fi, Suspense              White Fox       TV   \n",
       "4             Action, Comedy, Sci-Fi  Bandai Namco Pictures       TV   \n",
       "\n",
       "   Episodes  Duration Start_date End_date    Members  Score  \n",
       "0       2.0        61     23-Mar     2023   347875.0   9.17  \n",
       "1      64.0        24      9-Apr   10-Jul  3109951.0   9.11  \n",
       "2      13.0        24     22-Oct   22-Dec   404036.0   9.09  \n",
       "3      24.0        24     11-Apr   11-Sep  2393767.0   9.08  \n",
       "4      51.0        24     15-Apr   16-Mar   581994.0   9.07  "
      ]
     },
     "execution_count": 41,
     "metadata": {},
     "output_type": "execute_result"
    }
   ],
   "source": [
    "dados.head()"
   ]
  },
  {
   "cell_type": "code",
   "execution_count": 42,
   "id": "d32e4c89",
   "metadata": {
    "execution": {
     "iopub.execute_input": "2023-04-13T19:06:23.758692Z",
     "iopub.status.busy": "2023-04-13T19:06:23.758317Z",
     "iopub.status.idle": "2023-04-13T19:06:23.994147Z",
     "shell.execute_reply": "2023-04-13T19:06:23.992862Z"
    },
    "id": "ZV_0b6f_aaAJ",
    "outputId": "a70e95e8-88e6-4e2d-b244-243a08945d46",
    "papermill": {
     "duration": 0.258621,
     "end_time": "2023-04-13T19:06:23.996339",
     "exception": false,
     "start_time": "2023-04-13T19:06:23.737718",
     "status": "completed"
    },
    "tags": []
   },
   "outputs": [
    {
     "name": "stderr",
     "output_type": "stream",
     "text": [
      "/opt/conda/lib/python3.7/site-packages/ipykernel_launcher.py:1: UserWarning: \n",
      "\n",
      "`distplot` is a deprecated function and will be removed in seaborn v0.14.0.\n",
      "\n",
      "Please adapt your code to use either `displot` (a figure-level function with\n",
      "similar flexibility) or `histplot` (an axes-level function for histograms).\n",
      "\n",
      "For a guide to updating your code to use the new functions, please see\n",
      "https://gist.github.com/mwaskom/de44147ed2974457ad6372750bbe5751\n",
      "\n",
      "  \"\"\"Entry point for launching an IPython kernel.\n"
     ]
    },
    {
     "data": {
      "text/plain": [
       "<AxesSubplot:xlabel='Episodes', ylabel='Density'>"
      ]
     },
     "execution_count": 42,
     "metadata": {},
     "output_type": "execute_result"
    },
    {
     "data": {
      "image/png": "[encoded data removed]",
      "text/plain": [
       "<Figure size 1200x600 with 1 Axes>"
      ]
     },
     "metadata": {},
     "output_type": "display_data"
    }
   ],
   "source": [
    "ax = sns.distplot(dados.Episodes)\n",
    "ax.figure.figure.set_size_inches(12,6)\n",
    "ax"
   ]
  },
  {
   "cell_type": "code",
   "execution_count": 43,
   "id": "9da1644b",
   "metadata": {
    "execution": {
     "iopub.execute_input": "2023-04-13T19:06:24.039234Z",
     "iopub.status.busy": "2023-04-13T19:06:24.038842Z",
     "iopub.status.idle": "2023-04-13T19:06:24.047984Z",
     "shell.execute_reply": "2023-04-13T19:06:24.046724Z"
    },
    "id": "QIA5Ptr0azzu",
    "outputId": "12d505fb-45c6-4fdd-d928-839ab6b50fa9",
    "papermill": {
     "duration": 0.032322,
     "end_time": "2023-04-13T19:06:24.049984",
     "exception": false,
     "start_time": "2023-04-13T19:06:24.017662",
     "status": "completed"
    },
    "tags": []
   },
   "outputs": [
    {
     "data": {
      "text/plain": [
       "1.0"
      ]
     },
     "execution_count": 43,
     "metadata": {},
     "output_type": "execute_result"
    }
   ],
   "source": [
    "Moda = dados.Episodes.mode()[0]\n",
    "Moda"
   ]
  },
  {
   "cell_type": "code",
   "execution_count": 44,
   "id": "2c15fa6b",
   "metadata": {
    "execution": {
     "iopub.execute_input": "2023-04-13T19:06:24.092068Z",
     "iopub.status.busy": "2023-04-13T19:06:24.090955Z",
     "iopub.status.idle": "2023-04-13T19:06:24.099181Z",
     "shell.execute_reply": "2023-04-13T19:06:24.097791Z"
    },
    "id": "FRxb1QMabH33",
    "outputId": "1088d580-3e72-4518-f3ea-717096e6e84b",
    "papermill": {
     "duration": 0.031325,
     "end_time": "2023-04-13T19:06:24.101081",
     "exception": false,
     "start_time": "2023-04-13T19:06:24.069756",
     "status": "completed"
    },
    "tags": []
   },
   "outputs": [
    {
     "data": {
      "text/plain": [
       "12.0"
      ]
     },
     "execution_count": 44,
     "metadata": {},
     "output_type": "execute_result"
    }
   ],
   "source": [
    "Mediana = dados.Episodes.median()\n",
    "Mediana"
   ]
  },
  {
   "cell_type": "code",
   "execution_count": 45,
   "id": "279dde5c",
   "metadata": {
    "execution": {
     "iopub.execute_input": "2023-04-13T19:06:24.144417Z",
     "iopub.status.busy": "2023-04-13T19:06:24.143960Z",
     "iopub.status.idle": "2023-04-13T19:06:24.152887Z",
     "shell.execute_reply": "2023-04-13T19:06:24.151356Z"
    },
    "id": "xIgEh0v7bV8P",
    "outputId": "cce437aa-e335-47a7-fc52-22d3e18309b2",
    "papermill": {
     "duration": 0.033535,
     "end_time": "2023-04-13T19:06:24.155258",
     "exception": false,
     "start_time": "2023-04-13T19:06:24.121723",
     "status": "completed"
    },
    "tags": []
   },
   "outputs": [
    {
     "data": {
      "text/plain": [
       "17.79116465863454"
      ]
     },
     "execution_count": 45,
     "metadata": {},
     "output_type": "execute_result"
    }
   ],
   "source": [
    "Media = dados.Episodes.mean()\n",
    "Media"
   ]
  },
  {
   "cell_type": "code",
   "execution_count": 46,
   "id": "e3fdec20",
   "metadata": {
    "execution": {
     "iopub.execute_input": "2023-04-13T19:06:24.198177Z",
     "iopub.status.busy": "2023-04-13T19:06:24.197773Z",
     "iopub.status.idle": "2023-04-13T19:06:24.204771Z",
     "shell.execute_reply": "2023-04-13T19:06:24.203407Z"
    },
    "id": "n5m6ca4HcyUi",
    "outputId": "e6a3e2d9-c1e5-41c3-f8b4-8b2004dff054",
    "papermill": {
     "duration": 0.030992,
     "end_time": "2023-04-13T19:06:24.206620",
     "exception": false,
     "start_time": "2023-04-13T19:06:24.175628",
     "status": "completed"
    },
    "tags": []
   },
   "outputs": [
    {
     "data": {
      "text/plain": [
       "True"
      ]
     },
     "execution_count": 46,
     "metadata": {},
     "output_type": "execute_result"
    }
   ],
   "source": [
    "Media > Mediana > Moda"
   ]
  },
  {
   "cell_type": "code",
   "execution_count": 47,
   "id": "53c4afd3",
   "metadata": {
    "execution": {
     "iopub.execute_input": "2023-04-13T19:06:24.250043Z",
     "iopub.status.busy": "2023-04-13T19:06:24.249672Z",
     "iopub.status.idle": "2023-04-13T19:06:24.470708Z",
     "shell.execute_reply": "2023-04-13T19:06:24.468825Z"
    },
    "id": "_stcbuTHba6Q",
    "outputId": "74cb4bee-6485-4d0e-c4b6-11fdb390160d",
    "papermill": {
     "duration": 0.245951,
     "end_time": "2023-04-13T19:06:24.472957",
     "exception": false,
     "start_time": "2023-04-13T19:06:24.227006",
     "status": "completed"
    },
    "tags": []
   },
   "outputs": [
    {
     "name": "stderr",
     "output_type": "stream",
     "text": [
      "/opt/conda/lib/python3.7/site-packages/ipykernel_launcher.py:1: UserWarning: \n",
      "\n",
      "`distplot` is a deprecated function and will be removed in seaborn v0.14.0.\n",
      "\n",
      "Please adapt your code to use either `displot` (a figure-level function with\n",
      "similar flexibility) or `histplot` (an axes-level function for histograms).\n",
      "\n",
      "For a guide to updating your code to use the new functions, please see\n",
      "https://gist.github.com/mwaskom/de44147ed2974457ad6372750bbe5751\n",
      "\n",
      "  \"\"\"Entry point for launching an IPython kernel.\n"
     ]
    },
    {
     "data": {
      "text/plain": [
       "<AxesSubplot:xlabel='Score', ylabel='Density'>"
      ]
     },
     "execution_count": 47,
     "metadata": {},
     "output_type": "execute_result"
    },
    {
     "data": {
      "image/png": "[encoded data removed]",
      "text/plain": [
       "<Figure size 1200x600 with 1 Axes>"
      ]
     },
     "metadata": {},
     "output_type": "display_data"
    }
   ],
   "source": [
    "ax = sns.distplot(dados.Score)\n",
    "ax.figure.figure.set_size_inches(12,6)\n",
    "ax"
   ]
  },
  {
   "cell_type": "code",
   "execution_count": 48,
   "id": "c463df59",
   "metadata": {
    "execution": {
     "iopub.execute_input": "2023-04-13T19:06:24.518310Z",
     "iopub.status.busy": "2023-04-13T19:06:24.517881Z",
     "iopub.status.idle": "2023-04-13T19:06:24.526889Z",
     "shell.execute_reply": "2023-04-13T19:06:24.525806Z"
    },
    "id": "UNCeKQ_BcPDB",
    "outputId": "7527f79c-3668-4aaf-ecb6-dcc3ad1b44ac",
    "papermill": {
     "duration": 0.035378,
     "end_time": "2023-04-13T19:06:24.529917",
     "exception": false,
     "start_time": "2023-04-13T19:06:24.494539",
     "status": "completed"
    },
    "tags": []
   },
   "outputs": [
    {
     "data": {
      "text/plain": [
       "8.33"
      ]
     },
     "execution_count": 48,
     "metadata": {},
     "output_type": "execute_result"
    }
   ],
   "source": [
    "Moda = dados.Score.mode()[0]\n",
    "Moda"
   ]
  },
  {
   "cell_type": "code",
   "execution_count": 49,
   "id": "720bc52c",
   "metadata": {
    "execution": {
     "iopub.execute_input": "2023-04-13T19:06:24.576373Z",
     "iopub.status.busy": "2023-04-13T19:06:24.575474Z",
     "iopub.status.idle": "2023-04-13T19:06:24.582385Z",
     "shell.execute_reply": "2023-04-13T19:06:24.581506Z"
    },
    "id": "Ss3FiKnDcR0K",
    "outputId": "94cf834c-fbc9-4545-94f5-3d1959ef2d45",
    "papermill": {
     "duration": 0.03124,
     "end_time": "2023-04-13T19:06:24.584181",
     "exception": false,
     "start_time": "2023-04-13T19:06:24.552941",
     "status": "completed"
    },
    "tags": []
   },
   "outputs": [
    {
     "data": {
      "text/plain": [
       "8.504999999999999"
      ]
     },
     "execution_count": 49,
     "metadata": {},
     "output_type": "execute_result"
    }
   ],
   "source": [
    "Mediana = dados.Score.median()\n",
    "Mediana"
   ]
  },
  {
   "cell_type": "code",
   "execution_count": 50,
   "id": "b0c51f1f",
   "metadata": {
    "execution": {
     "iopub.execute_input": "2023-04-13T19:06:24.629008Z",
     "iopub.status.busy": "2023-04-13T19:06:24.627697Z",
     "iopub.status.idle": "2023-04-13T19:06:24.634255Z",
     "shell.execute_reply": "2023-04-13T19:06:24.633533Z"
    },
    "id": "QVk_29wZcTWx",
    "outputId": "53928c12-fd4a-4ab4-9e1d-f7d9600407ac",
    "papermill": {
     "duration": 0.03118,
     "end_time": "2023-04-13T19:06:24.636496",
     "exception": false,
     "start_time": "2023-04-13T19:06:24.605316",
     "status": "completed"
    },
    "tags": []
   },
   "outputs": [
    {
     "data": {
      "text/plain": [
       "8.54668"
      ]
     },
     "execution_count": 50,
     "metadata": {},
     "output_type": "execute_result"
    }
   ],
   "source": [
    "Media = dados.Score.mean()\n",
    "Media"
   ]
  },
  {
   "cell_type": "code",
   "execution_count": 51,
   "id": "4596967f",
   "metadata": {
    "execution": {
     "iopub.execute_input": "2023-04-13T19:06:24.680947Z",
     "iopub.status.busy": "2023-04-13T19:06:24.680209Z",
     "iopub.status.idle": "2023-04-13T19:06:24.686032Z",
     "shell.execute_reply": "2023-04-13T19:06:24.685332Z"
    },
    "id": "EplfU_ugcU52",
    "outputId": "42126553-eec4-4ff5-e81d-71bc6f87728b",
    "papermill": {
     "duration": 0.030315,
     "end_time": "2023-04-13T19:06:24.687934",
     "exception": false,
     "start_time": "2023-04-13T19:06:24.657619",
     "status": "completed"
    },
    "tags": []
   },
   "outputs": [
    {
     "data": {
      "text/plain": [
       "True"
      ]
     },
     "execution_count": 51,
     "metadata": {},
     "output_type": "execute_result"
    }
   ],
   "source": [
    "Media > Mediana > Moda"
   ]
  },
  {
   "cell_type": "code",
   "execution_count": 52,
   "id": "87a23fec",
   "metadata": {
    "execution": {
     "iopub.execute_input": "2023-04-13T19:06:24.733727Z",
     "iopub.status.busy": "2023-04-13T19:06:24.732988Z",
     "iopub.status.idle": "2023-04-13T19:06:24.745123Z",
     "shell.execute_reply": "2023-04-13T19:06:24.743973Z"
    },
    "id": "6AUaV2Skdpj0",
    "outputId": "914dd9d3-d67c-4747-82f6-e70f690bfea3",
    "papermill": {
     "duration": 0.038721,
     "end_time": "2023-04-13T19:06:24.747779",
     "exception": false,
     "start_time": "2023-04-13T19:06:24.709058",
     "status": "completed"
    },
    "tags": []
   },
   "outputs": [
    {
     "data": {
      "text/plain": [
       "24.0    12\n",
       "Name: Episodes, dtype: int64"
      ]
     },
     "execution_count": 52,
     "metadata": {},
     "output_type": "execute_result"
    }
   ],
   "source": [
    "dados.query('Episodes == 24').Episodes.value_counts()"
   ]
  },
  {
   "cell_type": "markdown",
   "id": "ede4d5b1",
   "metadata": {
    "id": "HBdwNiWIYSwO",
    "papermill": {
     "duration": 0.020872,
     "end_time": "2023-04-13T19:06:24.789931",
     "exception": false,
     "start_time": "2023-04-13T19:06:24.769059",
     "status": "completed"
    },
    "tags": []
   },
   "source": [
    "#Medidas Separatrizes\n"
   ]
  },
  {
   "cell_type": "code",
   "execution_count": 53,
   "id": "71142a26",
   "metadata": {
    "execution": {
     "iopub.execute_input": "2023-04-13T19:06:24.834875Z",
     "iopub.status.busy": "2023-04-13T19:06:24.834088Z",
     "iopub.status.idle": "2023-04-13T19:06:24.849142Z",
     "shell.execute_reply": "2023-04-13T19:06:24.848108Z"
    },
    "id": "h350UMeRd9-5",
    "outputId": "ecde9036-0f37-4111-aea2-c74908b081d8",
    "papermill": {
     "duration": 0.039555,
     "end_time": "2023-04-13T19:06:24.851050",
     "exception": false,
     "start_time": "2023-04-13T19:06:24.811495",
     "status": "completed"
    },
    "tags": []
   },
   "outputs": [
    {
     "data": {
      "text/plain": [
       "0.25    3064.25\n",
       "0.50    3876.50\n",
       "0.75    4115.00\n",
       "Name: Popularity, dtype: float64"
      ]
     },
     "execution_count": 53,
     "metadata": {},
     "output_type": "execute_result"
    }
   ],
   "source": [
    "dados.query('Type == \"Music\"').Popularity.quantile([0.25, 0.5, 0.75])#quartis"
   ]
  },
  {
   "cell_type": "code",
   "execution_count": 54,
   "id": "06a4bac3",
   "metadata": {
    "execution": {
     "iopub.execute_input": "2023-04-13T19:06:24.895777Z",
     "iopub.status.busy": "2023-04-13T19:06:24.895381Z",
     "iopub.status.idle": "2023-04-13T19:06:24.905190Z",
     "shell.execute_reply": "2023-04-13T19:06:24.904167Z"
    },
    "id": "bqzosM1XY6q0",
    "outputId": "a9c5da60-6526-4ac8-d3c5-d05eccc63c52",
    "papermill": {
     "duration": 0.034373,
     "end_time": "2023-04-13T19:06:24.907194",
     "exception": false,
     "start_time": "2023-04-13T19:06:24.872821",
     "status": "completed"
    },
    "tags": []
   },
   "outputs": [
    {
     "data": {
      "text/plain": [
       "0.1    8.320\n",
       "0.2    8.360\n",
       "0.3    8.400\n",
       "0.4    8.440\n",
       "0.5    8.505\n",
       "0.6    8.554\n",
       "0.7    8.630\n",
       "0.8    8.702\n",
       "0.9    8.862\n",
       "Name: Score, dtype: float64"
      ]
     },
     "execution_count": 54,
     "metadata": {},
     "output_type": "execute_result"
    }
   ],
   "source": [
    "dados.Score.quantile([i/10 for i in range(1,10)])#decis"
   ]
  },
  {
   "cell_type": "code",
   "execution_count": 55,
   "id": "242d3586",
   "metadata": {
    "execution": {
     "iopub.execute_input": "2023-04-13T19:06:24.952066Z",
     "iopub.status.busy": "2023-04-13T19:06:24.951698Z",
     "iopub.status.idle": "2023-04-13T19:06:24.961711Z",
     "shell.execute_reply": "2023-04-13T19:06:24.960915Z"
    },
    "id": "-ii3IyOaZz7v",
    "outputId": "d66acdf1-a207-40bb-fb4a-e98fceb49d5d",
    "papermill": {
     "duration": 0.03478,
     "end_time": "2023-04-13T19:06:24.963648",
     "exception": false,
     "start_time": "2023-04-13T19:06:24.928868",
     "status": "completed"
    },
    "tags": []
   },
   "outputs": [
    {
     "data": {
      "text/plain": [
       "0.01    8.30\n",
       "0.02    8.30\n",
       "0.03    8.31\n",
       "0.04    8.31\n",
       "0.05    8.31\n",
       "0.06    8.31\n",
       "0.07    8.32\n",
       "0.08    8.32\n",
       "0.09    8.32\n",
       "Name: Score, dtype: float64"
      ]
     },
     "execution_count": 55,
     "metadata": {},
     "output_type": "execute_result"
    }
   ],
   "source": [
    "dados.Score.quantile([i/100 for i in range(1,10)])#percentis"
   ]
  },
  {
   "cell_type": "code",
   "execution_count": 56,
   "id": "18544834",
   "metadata": {
    "execution": {
     "iopub.execute_input": "2023-04-13T19:06:25.009558Z",
     "iopub.status.busy": "2023-04-13T19:06:25.009197Z",
     "iopub.status.idle": "2023-04-13T19:06:25.250117Z",
     "shell.execute_reply": "2023-04-13T19:06:25.248568Z"
    },
    "id": "66Y5xOwhZ2eH",
    "outputId": "9bc9b535-8115-4c8a-fea2-93fe09cb52f1",
    "papermill": {
     "duration": 0.267079,
     "end_time": "2023-04-13T19:06:25.252595",
     "exception": false,
     "start_time": "2023-04-13T19:06:24.985516",
     "status": "completed"
    },
    "tags": []
   },
   "outputs": [
    {
     "name": "stderr",
     "output_type": "stream",
     "text": [
      "/opt/conda/lib/python3.7/site-packages/ipykernel_launcher.py:3: UserWarning: \n",
      "\n",
      "`distplot` is a deprecated function and will be removed in seaborn v0.14.0.\n",
      "\n",
      "Please adapt your code to use either `displot` (a figure-level function with\n",
      "similar flexibility) or `histplot` (an axes-level function for histograms).\n",
      "\n",
      "For a guide to updating your code to use the new functions, please see\n",
      "https://gist.github.com/mwaskom/de44147ed2974457ad6372750bbe5751\n",
      "\n",
      "  This is separate from the ipykernel package so we can avoid doing imports until\n"
     ]
    },
    {
     "data": {
      "text/plain": [
       "<AxesSubplot:title={'center':'Distribuição de Frequencias Acumulada'}, xlabel='Score', ylabel='Partes'>"
      ]
     },
     "execution_count": 56,
     "metadata": {},
     "output_type": "execute_result"
    },
    {
     "data": {
      "image/png": "[encoded data removed]",
      "text/plain": [
       "<Figure size 1400x600 with 1 Axes>"
      ]
     },
     "metadata": {},
     "output_type": "display_data"
    }
   ],
   "source": [
    "ax = sns.distplot(dados.Score, hist_kws = {'cumulative' : True},\n",
    "                  kde_kws = {'cumulative' : True},\n",
    "                  bins = 10)\n",
    "ax.figure.set_size_inches(14, 6)\n",
    "ax.set_title('Distribuição de Frequencias Acumulada', fontsize=18)\n",
    "ax.set_xlabel('Score', fontsize=14)\n",
    "ax.set_ylabel('Partes', fontsize=14)\n",
    "ax"
   ]
  },
  {
   "cell_type": "markdown",
   "id": "823e4dea",
   "metadata": {
    "id": "W3AzHqOXbW_I",
    "papermill": {
     "duration": 0.022576,
     "end_time": "2023-04-13T19:06:25.298016",
     "exception": false,
     "start_time": "2023-04-13T19:06:25.275440",
     "status": "completed"
    },
    "tags": []
   },
   "source": [
    "##Box Plot"
   ]
  },
  {
   "cell_type": "markdown",
   "id": "bcc3cf7d",
   "metadata": {
    "id": "um1qpHIYbgI9",
    "papermill": {
     "duration": 0.022165,
     "end_time": "2023-04-13T19:06:25.342929",
     "exception": false,
     "start_time": "2023-04-13T19:06:25.320764",
     "status": "completed"
    },
    "tags": []
   },
   "source": [
    "<img src='https://caelum-online-public.s3.amazonaws.com/1177-estatistica-parte1/01/img005.png' width='55%'>"
   ]
  },
  {
   "cell_type": "code",
   "execution_count": 57,
   "id": "99a28009",
   "metadata": {
    "execution": {
     "iopub.execute_input": "2023-04-13T19:06:25.389488Z",
     "iopub.status.busy": "2023-04-13T19:06:25.389023Z",
     "iopub.status.idle": "2023-04-13T19:06:25.528791Z",
     "shell.execute_reply": "2023-04-13T19:06:25.527967Z"
    },
    "id": "T1QZZ2OLbYd6",
    "outputId": "285e3836-bbfe-4421-9570-65c2239ae208",
    "papermill": {
     "duration": 0.166189,
     "end_time": "2023-04-13T19:06:25.531194",
     "exception": false,
     "start_time": "2023-04-13T19:06:25.365005",
     "status": "completed"
    },
    "tags": []
   },
   "outputs": [
    {
     "data": {
      "text/plain": [
       "Text(0, 0.5, 'Partes')"
      ]
     },
     "execution_count": 57,
     "metadata": {},
     "output_type": "execute_result"
    },
    {
     "data": {
      "image/png": "[encoded data removed]",
      "text/plain": [
       "<Figure size 1200x400 with 1 Axes>"
      ]
     },
     "metadata": {},
     "output_type": "display_data"
    }
   ],
   "source": [
    "ax = sns.boxplot(x = 'Score', data = dados, orient = 'h')\n",
    "ax.figure.set_size_inches(12,4)\n",
    "ax.set_title('Score', fontsize=18)\n",
    "ax.set_xlabel('Score', fontsize=14)\n",
    "ax.set_ylabel('Partes', fontsize=14)"
   ]
  },
  {
   "cell_type": "code",
   "execution_count": 58,
   "id": "48081122",
   "metadata": {
    "execution": {
     "iopub.execute_input": "2023-04-13T19:06:25.583178Z",
     "iopub.status.busy": "2023-04-13T19:06:25.582448Z",
     "iopub.status.idle": "2023-04-13T19:06:25.805951Z",
     "shell.execute_reply": "2023-04-13T19:06:25.805214Z"
    },
    "id": "Z8Tt6lgPbgsB",
    "outputId": "6d160c38-a9bf-4132-ebd6-54bb7e212108",
    "papermill": {
     "duration": 0.250999,
     "end_time": "2023-04-13T19:06:25.808437",
     "exception": false,
     "start_time": "2023-04-13T19:06:25.557438",
     "status": "completed"
    },
    "tags": []
   },
   "outputs": [
    {
     "data": {
      "text/plain": [
       "Text(0, 0.5, 'Partes')"
      ]
     },
     "execution_count": 58,
     "metadata": {},
     "output_type": "execute_result"
    },
    {
     "data": {
      "image/png": "[encoded data removed]",
      "text/plain": [
       "<Figure size 1200x400 with 1 Axes>"
      ]
     },
     "metadata": {},
     "output_type": "display_data"
    }
   ],
   "source": [
    "ax = sns.boxplot(x = 'Popularity',y = 'Type', data = dados, orient = 'h')\n",
    "ax.figure.set_size_inches(12,4)\n",
    "ax.set_title('Popularity by Type', fontsize=18)\n",
    "ax.set_xlabel('Popularity', fontsize=14)\n",
    "ax.set_ylabel('Partes', fontsize=14)"
   ]
  },
  {
   "cell_type": "code",
   "execution_count": 59,
   "id": "f25a932a",
   "metadata": {
    "execution": {
     "iopub.execute_input": "2023-04-13T19:06:25.858539Z",
     "iopub.status.busy": "2023-04-13T19:06:25.857848Z",
     "iopub.status.idle": "2023-04-13T19:06:25.873111Z",
     "shell.execute_reply": "2023-04-13T19:06:25.871622Z"
    },
    "id": "z4wkCp_ncVUr",
    "outputId": "53854bc3-44ac-426d-e80f-f8d9c452fcf0",
    "papermill": {
     "duration": 0.043132,
     "end_time": "2023-04-13T19:06:25.875674",
     "exception": false,
     "start_time": "2023-04-13T19:06:25.832542",
     "status": "completed"
    },
    "tags": []
   },
   "outputs": [
    {
     "data": {
      "text/html": [
       "<div>\n",
       "<style scoped>\n",
       "    .dataframe tbody tr th:only-of-type {\n",
       "        vertical-align: middle;\n",
       "    }\n",
       "\n",
       "    .dataframe tbody tr th {\n",
       "        vertical-align: top;\n",
       "    }\n",
       "\n",
       "    .dataframe thead th {\n",
       "        text-align: right;\n",
       "    }\n",
       "</style>\n",
       "<table border=\"1\" class=\"dataframe\">\n",
       "  <thead>\n",
       "    <tr style=\"text-align: right;\">\n",
       "      <th></th>\n",
       "      <th>Rank</th>\n",
       "      <th>Title</th>\n",
       "      <th>Popularity</th>\n",
       "      <th>Genre</th>\n",
       "      <th>Studio</th>\n",
       "      <th>Type</th>\n",
       "      <th>Episodes</th>\n",
       "      <th>Duration</th>\n",
       "      <th>Start_date</th>\n",
       "      <th>End_date</th>\n",
       "      <th>Members</th>\n",
       "      <th>Score</th>\n",
       "    </tr>\n",
       "  </thead>\n",
       "  <tbody>\n",
       "    <tr>\n",
       "      <th>0</th>\n",
       "      <td>1</td>\n",
       "      <td>Shingeki no Kyojin: The Final Season - Kankets...</td>\n",
       "      <td>609</td>\n",
       "      <td>Action, Drama, Suspense</td>\n",
       "      <td>MAPPA</td>\n",
       "      <td>Special</td>\n",
       "      <td>2.0</td>\n",
       "      <td>61</td>\n",
       "      <td>23-Mar</td>\n",
       "      <td>2023</td>\n",
       "      <td>347875.0</td>\n",
       "      <td>9.17</td>\n",
       "    </tr>\n",
       "    <tr>\n",
       "      <th>1</th>\n",
       "      <td>2</td>\n",
       "      <td>Fullmetal Alchemist: Brotherhood</td>\n",
       "      <td>3</td>\n",
       "      <td>Action, Adventure, Drama, Fantasy</td>\n",
       "      <td>Bones</td>\n",
       "      <td>TV</td>\n",
       "      <td>64.0</td>\n",
       "      <td>24</td>\n",
       "      <td>9-Apr</td>\n",
       "      <td>10-Jul</td>\n",
       "      <td>3109951.0</td>\n",
       "      <td>9.11</td>\n",
       "    </tr>\n",
       "    <tr>\n",
       "      <th>2</th>\n",
       "      <td>3</td>\n",
       "      <td>Bleach: Sennen Kessen-hen</td>\n",
       "      <td>508</td>\n",
       "      <td>Action, Adventure, Fantasy</td>\n",
       "      <td>Pierrot</td>\n",
       "      <td>TV</td>\n",
       "      <td>13.0</td>\n",
       "      <td>24</td>\n",
       "      <td>22-Oct</td>\n",
       "      <td>22-Dec</td>\n",
       "      <td>404036.0</td>\n",
       "      <td>9.09</td>\n",
       "    </tr>\n",
       "    <tr>\n",
       "      <th>3</th>\n",
       "      <td>4</td>\n",
       "      <td>Steins;Gate</td>\n",
       "      <td>13</td>\n",
       "      <td>Drama, Sci-Fi, Suspense</td>\n",
       "      <td>White Fox</td>\n",
       "      <td>TV</td>\n",
       "      <td>24.0</td>\n",
       "      <td>24</td>\n",
       "      <td>11-Apr</td>\n",
       "      <td>11-Sep</td>\n",
       "      <td>2393767.0</td>\n",
       "      <td>9.08</td>\n",
       "    </tr>\n",
       "    <tr>\n",
       "      <th>4</th>\n",
       "      <td>5</td>\n",
       "      <td>Gintama°</td>\n",
       "      <td>335</td>\n",
       "      <td>Action, Comedy, Sci-Fi</td>\n",
       "      <td>Bandai Namco Pictures</td>\n",
       "      <td>TV</td>\n",
       "      <td>51.0</td>\n",
       "      <td>24</td>\n",
       "      <td>15-Apr</td>\n",
       "      <td>16-Mar</td>\n",
       "      <td>581994.0</td>\n",
       "      <td>9.07</td>\n",
       "    </tr>\n",
       "  </tbody>\n",
       "</table>\n",
       "</div>"
      ],
      "text/plain": [
       "   Rank                                              Title  Popularity  \\\n",
       "0     1  Shingeki no Kyojin: The Final Season - Kankets...         609   \n",
       "1     2                   Fullmetal Alchemist: Brotherhood           3   \n",
       "2     3                          Bleach: Sennen Kessen-hen         508   \n",
       "3     4                                        Steins;Gate          13   \n",
       "4     5                                           Gintama°         335   \n",
       "\n",
       "                               Genre                 Studio     Type  \\\n",
       "0            Action, Drama, Suspense                  MAPPA  Special   \n",
       "1  Action, Adventure, Drama, Fantasy                  Bones       TV   \n",
       "2         Action, Adventure, Fantasy                Pierrot       TV   \n",
       "3            Drama, Sci-Fi, Suspense              White Fox       TV   \n",
       "4             Action, Comedy, Sci-Fi  Bandai Namco Pictures       TV   \n",
       "\n",
       "   Episodes  Duration Start_date End_date    Members  Score  \n",
       "0       2.0        61     23-Mar     2023   347875.0   9.17  \n",
       "1      64.0        24      9-Apr   10-Jul  3109951.0   9.11  \n",
       "2      13.0        24     22-Oct   22-Dec   404036.0   9.09  \n",
       "3      24.0        24     11-Apr   11-Sep  2393767.0   9.08  \n",
       "4      51.0        24     15-Apr   16-Mar   581994.0   9.07  "
      ]
     },
     "execution_count": 59,
     "metadata": {},
     "output_type": "execute_result"
    }
   ],
   "source": [
    "dados.head()"
   ]
  },
  {
   "cell_type": "code",
   "execution_count": 60,
   "id": "b3e49de3",
   "metadata": {
    "execution": {
     "iopub.execute_input": "2023-04-13T19:06:25.925050Z",
     "iopub.status.busy": "2023-04-13T19:06:25.924327Z",
     "iopub.status.idle": "2023-04-13T19:06:26.153727Z",
     "shell.execute_reply": "2023-04-13T19:06:26.152299Z"
    },
    "id": "jXQmOKiZchj5",
    "outputId": "11c99b40-bc5d-4045-f0cd-059fe46eb7ee",
    "papermill": {
     "duration": 0.257344,
     "end_time": "2023-04-13T19:06:26.156431",
     "exception": false,
     "start_time": "2023-04-13T19:06:25.899087",
     "status": "completed"
    },
    "tags": []
   },
   "outputs": [
    {
     "data": {
      "text/plain": [
       "Text(0, 0.5, 'Partes')"
      ]
     },
     "execution_count": 60,
     "metadata": {},
     "output_type": "execute_result"
    },
    {
     "data": {
      "image/png": "[encoded data removed]",
      "text/plain": [
       "<Figure size 1200x400 with 1 Axes>"
      ]
     },
     "metadata": {},
     "output_type": "display_data"
    }
   ],
   "source": [
    "ax = sns.boxplot(x = 'Score',y = 'Type', data = dados.query('Popularity > 1000'), orient = 'h')\n",
    "ax.figure.set_size_inches(12,4)\n",
    "ax.set_title('Popularity by Type', fontsize=18)\n",
    "ax.set_xlabel('Popularity', fontsize=14)\n",
    "ax.set_ylabel('Partes', fontsize=14)"
   ]
  }
 ],
 "metadata": {
  "kernelspec": {
   "display_name": "Python 3",
   "language": "python",
   "name": "python3"
  },
  "language_info": {
   "codemirror_mode": {
    "name": "ipython",
    "version": 3
   },
   "file_extension": ".py",
   "mimetype": "text/x-python",
   "name": "python",
   "nbconvert_exporter": "python",
   "pygments_lexer": "ipython3",
   "version": "3.7.12"
  },
  "papermill": {
   "default_parameters": {},
   "duration": 16.549031,
   "end_time": "2023-04-13T19:06:26.903680",
   "environment_variables": {},
   "exception": null,
   "input_path": "__notebook__.ipynb",
   "output_path": "__notebook__.ipynb",
   "parameters": {},
   "start_time": "2023-04-13T19:06:10.354649",
   "version": "2.4.0"
  }
 },
 "nbformat": 4,
 "nbformat_minor": 5
}
